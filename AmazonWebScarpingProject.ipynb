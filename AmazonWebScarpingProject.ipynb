{
 "cells": [
  {
   "cell_type": "code",
   "execution_count": 4,
   "id": "9ae66fe7",
   "metadata": {},
   "outputs": [],
   "source": [
    "from bs4 import BeautifulSoup\n",
    "import requests\n",
    "import smtplib\n",
    "import time\n",
    "import datetime\n",
    "import smtplib"
   ]
  },
  {
   "cell_type": "code",
   "execution_count": 5,
   "id": "c473e495",
   "metadata": {},
   "outputs": [
    {
     "name": "stdout",
     "output_type": "stream",
     "text": [
      "\n",
      "                   DUDEME Data Nerd | Programmer T Shirt | Coding T Shirt for Coders | Developer T Shirt | Round Neck Cotton T-Shirt | Geek Half Sleeve T Shirt for Men & Women\n",
      "                  \n"
     ]
    }
   ],
   "source": [
    "#connect to a website\n",
    "URL = 'https://www.amazon.in/DUDEME-Programmer-Coding-Developer-T-Shirt/dp/B08SFHKHV3/ref=sr_1_1?keywords=data%2Banalyst%2Btshirt&qid=1663929375&sr=8-1'\n",
    "headers = {\"Uger-Agent\": \"Mozilla/5.0 (Windows NT 10.0; WOW64) AppleWebKit/537.36 (KHTML, like Gecko) Chrome/105.0.0.0 Safari/537.36\"}\n",
    "Page = requests.get(URL, headers=headers)\n",
    "soup1 = BeautifulSoup(Page.content,\"html.parser\")\n",
    "soup2 = BeautifulSoup(soup1.prettify(),\"html.parser\")\n",
    "title = soup2.find(id='productTitle').get_text()\n",
    "#price = soup2.find(id='priceblock_ourprice').get_text()\n",
    "print(title)\n",
    "#print(price)\n"
   ]
  },
  {
   "cell_type": "code",
   "execution_count": 7,
   "id": "aa20e8ef",
   "metadata": {},
   "outputs": [
    {
     "name": "stdout",
     "output_type": "stream",
     "text": [
      "DUDEME Data Nerd | Programmer T Shirt | Coding T Shirt for Coders | Developer T Shirt | Round Neck Cotton T-Shirt | Geek Half Sleeve T Shirt for Men & Women\n"
     ]
    }
   ],
   "source": [
    "#price.strip()[1:]\n",
    "title = title.strip()\n",
    "\n",
    "print(title)"
   ]
  },
  {
   "cell_type": "code",
   "execution_count": 10,
   "id": "0ee50933",
   "metadata": {},
   "outputs": [
    {
     "name": "stdout",
     "output_type": "stream",
     "text": [
      "2022-09-24\n"
     ]
    }
   ],
   "source": [
    "import datetime\n",
    "today = datetime.date.today()\n",
    "print(today)"
   ]
  },
  {
   "cell_type": "code",
   "execution_count": 11,
   "id": "324d113d",
   "metadata": {},
   "outputs": [],
   "source": [
    "#create csv file for scraping data\n",
    "import csv\n",
    "header = ['title' , 'Date']\n",
    "data = [title , today]\n",
    "type(data)\n",
    "with open('AmazonWebScraper.csv', 'w' , newline='' ,encoding='UTF') as f:\n",
    "    writer = csv.writer(f)\n",
    "    writer.writerow(header)\n",
    "    writer.writerow(data)"
   ]
  },
  {
   "cell_type": "code",
   "execution_count": 12,
   "id": "a847bffd",
   "metadata": {},
   "outputs": [
    {
     "name": "stdout",
     "output_type": "stream",
     "text": [
      "                                               title        Date\n",
      "0  DUDEME Data Nerd | Programmer T Shirt | Coding...  2022-09-24\n"
     ]
    }
   ],
   "source": [
    "import pandas as pd\n",
    "df = pd.read_csv(r'C:\\Users\\OCAC\\AmazonWebScraper.csv')\n",
    "print(df)\n"
   ]
  },
  {
   "cell_type": "code",
   "execution_count": 14,
   "id": "b68513d2",
   "metadata": {},
   "outputs": [],
   "source": [
    "# now appending data to csv\n",
    "with open('AmazonWebScraper.csv', 'a+' , newline='' ,encoding='UTF') as f:\n",
    "    writer = csv.writer(f)\n",
    "    writer.writerow(data)"
   ]
  },
  {
   "cell_type": "code",
   "execution_count": 15,
   "id": "c6e0a417",
   "metadata": {},
   "outputs": [],
   "source": [
    "def check_price():\n",
    "    URL = 'https://www.amazon.in/DUDEME-Programmer-Coding-Developer-T-Shirt/dp/B08SFHKHV3/ref=sr_1_1?keywords=data%2Banalyst%2Btshirt&qid=1663929375&sr=8-1'\n",
    "    headers = {\"Uger-Agent\": \"Mozilla/5.0 (Windows NT 10.0; WOW64) AppleWebKit/537.36 (KHTML, like Gecko) Chrome/105.0.0.0 Safari/537.36\"}\n",
    "    Page = requests.get(URL, headers=headers)\n",
    "    soup1 = BeautifulSoup(Page.content,\"html.parser\")\n",
    "    soup2 = BeautifulSoup(soup1.prettify(),\"html.parser\")\n",
    "    title = soup2.find(id='productTitle').get_text()\n",
    "    #price = soup2.find(id='priceblock_ourprice').get_text()\n",
    "    #price.strip()[1:]\n",
    "    title = title.strip()\n",
    "    \n",
    "    import datetime\n",
    "    \n",
    "    today = datetime.date.today()\n",
    "    \n",
    "    import csv\n",
    "    \n",
    "    header = ['title' , 'Date']\n",
    "    data = [title , today]\n",
    "    with open('AmazonWebScraper.csv', 'a+' , newline='' ,encoding='UTF') as f:\n",
    "        writer = csv.writer(f)\n",
    "        writer.writerow(data)\n"
   ]
  },
  {
   "cell_type": "code",
   "execution_count": null,
   "id": "05e0f9db",
   "metadata": {},
   "outputs": [],
   "source": [
    "#update the dataset in every 5 second\n",
    "while(True):\n",
    "    check_price()\n",
    "    time.sleep(5)"
   ]
  },
  {
   "cell_type": "code",
   "execution_count": 17,
   "id": "31c9f855",
   "metadata": {},
   "outputs": [
    {
     "name": "stdout",
     "output_type": "stream",
     "text": [
      "                                               title        Date\n",
      "0  DUDEME Data Nerd | Programmer T Shirt | Coding...  2022-09-24\n",
      "1  DUDEME Data Nerd | Programmer T Shirt | Coding...  2022-09-24\n",
      "2  DUDEME Data Nerd | Programmer T Shirt | Coding...  2022-09-24\n",
      "3  DUDEME Data Nerd | Programmer T Shirt | Coding...  2022-09-24\n",
      "4  DUDEME Data Nerd | Programmer T Shirt | Coding...  2022-09-24\n",
      "5  DUDEME Data Nerd | Programmer T Shirt | Coding...  2022-09-24\n",
      "6  DUDEME Data Nerd | Programmer T Shirt | Coding...  2022-09-24\n",
      "7  DUDEME Data Nerd | Programmer T Shirt | Coding...  2022-09-24\n",
      "8  DUDEME Data Nerd | Programmer T Shirt | Coding...  2022-09-24\n"
     ]
    }
   ],
   "source": [
    "import pandas as pd\n",
    "df = pd.read_csv(r'C:\\Users\\OCAC\\AmazonWebScraper.csv')\n",
    "print(df)"
   ]
  },
  {
   "cell_type": "code",
   "execution_count": null,
   "id": "36eb1ed9",
   "metadata": {},
   "outputs": [],
   "source": []
  }
 ],
 "metadata": {
  "kernelspec": {
   "display_name": "Python 3",
   "language": "python",
   "name": "python3"
  },
  "language_info": {
   "codemirror_mode": {
    "name": "ipython",
    "version": 3
   },
   "file_extension": ".py",
   "mimetype": "text/x-python",
   "name": "python",
   "nbconvert_exporter": "python",
   "pygments_lexer": "ipython3",
   "version": "3.9.4"
  }
 },
 "nbformat": 4,
 "nbformat_minor": 5
}

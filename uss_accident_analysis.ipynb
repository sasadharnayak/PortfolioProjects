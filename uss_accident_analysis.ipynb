{
  "cells": [
    {
      "cell_type": "markdown",
      "metadata": {
        "id": "view-in-github",
        "colab_type": "text"
      },
      "source": [
        "<a href=\"https://colab.research.google.com/github/sasadharnayak/PortfolioProjects/blob/main/uss_accident_analysis.ipynb\" target=\"_parent\"><img src=\"https://colab.research.google.com/assets/colab-badge.svg\" alt=\"Open In Colab\"/></a>"
      ]
    },
    {
      "cell_type": "code",
      "execution_count": 8,
      "metadata": {
        "id": "b5NHDTEk-9u9"
      },
      "outputs": [],
      "source": [
        "# Jovian Commit Essentials\n",
        "# Please retain and execute this cell without modifying the contents for `jovian.commit` to work\n",
        "!pip install jovian --upgrade -q\n",
        "import jovian\n",
        "jovian.set_project('uss-accident-analysis')\n",
        "jovian.set_colab_id('1qBg2JQwU8UESVpECIUAFwWYq1gv4sLyh')"
      ]
    },
    {
      "cell_type": "markdown",
      "metadata": {
        "id": "kfSMvrbu-9vP"
      },
      "source": [
        "# uss-accident-analysis\n",
        "\n",
        "Use the \"Run\" button to execute the code.\n",
        "\n",
        "\n",
        "we work on the following row for analysis\n",
        "1.   City\n",
        "2.   start time\n",
        "3.   stat lat, start lan\n",
        "4.   temperature\n",
        "5.   Weather condition\n",
        "\n",
        "\n"
      ]
    },
    {
      "cell_type": "code",
      "source": [
        "pip install opendatasets --upgrade --quiet "
      ],
      "metadata": {
        "id": "11N7-94-BINB"
      },
      "execution_count": 11,
      "outputs": []
    },
    {
      "cell_type": "markdown",
      "source": [
        "download dataset\n"
      ],
      "metadata": {
        "id": "hpAXh7zlEp9X"
      }
    },
    {
      "cell_type": "code",
      "source": [
        "import opendatasets as od\n",
        "dataset_url = 'https://www.kaggle.com/datasets/sobhanmoosavi/us-accidents'\n",
        "od.download(dataset_url)"
      ],
      "metadata": {
        "colab": {
          "base_uri": "https://localhost:8080/"
        },
        "id": "hRUa0DpmB7Kx",
        "outputId": "0cc428fc-0772-48cb-e863-a14659866173"
      },
      "execution_count": 12,
      "outputs": [
        {
          "output_type": "stream",
          "name": "stdout",
          "text": [
            "Skipping, found downloaded files in \"./us-accidents\" (use force=True to force download)\n"
          ]
        }
      ]
    },
    {
      "cell_type": "code",
      "source": [
        "data_filename ='/content/us-accidents/US_Accidents_Dec21_updated.csv'"
      ],
      "metadata": {
        "id": "lMOegzRjGvHf"
      },
      "execution_count": 14,
      "outputs": []
    },
    {
      "cell_type": "code",
      "source": [],
      "metadata": {
        "id": "Frm5-NM1-G-z"
      },
      "execution_count": null,
      "outputs": []
    },
    {
      "cell_type": "markdown",
      "source": [],
      "metadata": {
        "id": "MiV8eFrHAHBT"
      }
    },
    {
      "cell_type": "code",
      "source": [
        "import pandas as pd\n",
        "df= pd.read_csv(data_filename)"
      ],
      "metadata": {
        "id": "mwMMzufUAGjj"
      },
      "execution_count": 20,
      "outputs": []
    },
    {
      "cell_type": "code",
      "source": [
        "df"
      ],
      "metadata": {
        "colab": {
          "base_uri": "https://localhost:8080/",
          "height": 939
        },
        "id": "tjRXcI9oJNYY",
        "outputId": "4e2c0e6c-6d62-4c5c-e974-c9243f3b6ef1"
      },
      "execution_count": null,
      "outputs": [
        {
          "output_type": "execute_result",
          "data": {
            "text/plain": [
              "                ID  Severity           Start_Time             End_Time  \\\n",
              "0              A-1         3  2016-02-08 00:37:08  2016-02-08 06:37:08   \n",
              "1              A-2         2  2016-02-08 05:56:20  2016-02-08 11:56:20   \n",
              "2              A-3         2  2016-02-08 06:15:39  2016-02-08 12:15:39   \n",
              "3              A-4         2  2016-02-08 06:51:45  2016-02-08 12:51:45   \n",
              "4              A-5         3  2016-02-08 07:53:43  2016-02-08 13:53:43   \n",
              "...            ...       ...                  ...                  ...   \n",
              "2845337  A-2845338         2  2019-08-23 18:03:25  2019-08-23 18:32:01   \n",
              "2845338  A-2845339         2  2019-08-23 19:11:30  2019-08-23 19:38:23   \n",
              "2845339  A-2845340         2  2019-08-23 19:00:21  2019-08-23 19:28:49   \n",
              "2845340  A-2845341         2  2019-08-23 19:00:21  2019-08-23 19:29:42   \n",
              "2845341  A-2845342         2  2019-08-23 18:52:06  2019-08-23 19:21:31   \n",
              "\n",
              "         Start_Lat   Start_Lng    End_Lat     End_Lng  Distance(mi)  \\\n",
              "0        40.108910  -83.092860  40.112060  -83.031870         3.230   \n",
              "1        39.865420  -84.062800  39.865010  -84.048730         0.747   \n",
              "2        39.102660  -84.524680  39.102090  -84.523960         0.055   \n",
              "3        41.062130  -81.537840  41.062170  -81.535470         0.123   \n",
              "4        39.172393  -84.492792  39.170476  -84.501798         0.500   \n",
              "...            ...         ...        ...         ...           ...   \n",
              "2845337  34.002480 -117.379360  33.998880 -117.370940         0.543   \n",
              "2845338  32.766960 -117.148060  32.765550 -117.153630         0.338   \n",
              "2845339  33.775450 -117.847790  33.777400 -117.857270         0.561   \n",
              "2845340  33.992460 -118.403020  33.983110 -118.395650         0.772   \n",
              "2845341  34.133930 -117.230920  34.137360 -117.239340         0.537   \n",
              "\n",
              "                                               Description  ...  Roundabout  \\\n",
              "0        Between Sawmill Rd/Exit 20 and OH-315/Olentang...  ...       False   \n",
              "1                       At OH-4/OH-235/Exit 41 - Accident.  ...       False   \n",
              "2                         At I-71/US-50/Exit 1 - Accident.  ...       False   \n",
              "3                          At Dart Ave/Exit 21 - Accident.  ...       False   \n",
              "4                       At Mitchell Ave/Exit 6 - Accident.  ...       False   \n",
              "...                                                    ...  ...         ...   \n",
              "2845337                           At Market St - Accident.  ...       False   \n",
              "2845338    At Camino Del Rio/Mission Center Rd - Accident.  ...       False   \n",
              "2845339  At Glassell St/Grand Ave - Accident. in the ri...  ...       False   \n",
              "2845340     At CA-90/Marina Fwy/Jefferson Blvd - Accident.  ...       False   \n",
              "2845341              At Highland Ave/Arden Ave - Accident.  ...       False   \n",
              "\n",
              "        Station   Stop Traffic_Calming Traffic_Signal Turning_Loop  \\\n",
              "0         False  False           False          False        False   \n",
              "1         False  False           False          False        False   \n",
              "2         False  False           False          False        False   \n",
              "3         False  False           False          False        False   \n",
              "4         False  False           False          False        False   \n",
              "...         ...    ...             ...            ...          ...   \n",
              "2845337   False  False           False          False        False   \n",
              "2845338   False  False           False          False        False   \n",
              "2845339   False  False           False          False        False   \n",
              "2845340   False  False           False          False        False   \n",
              "2845341   False  False           False          False        False   \n",
              "\n",
              "        Sunrise_Sunset Civil_Twilight Nautical_Twilight Astronomical_Twilight  \n",
              "0                Night          Night             Night                 Night  \n",
              "1                Night          Night             Night                 Night  \n",
              "2                Night          Night             Night                   Day  \n",
              "3                Night          Night               Day                   Day  \n",
              "4                  Day            Day               Day                   Day  \n",
              "...                ...            ...               ...                   ...  \n",
              "2845337            Day            Day               Day                   Day  \n",
              "2845338            Day            Day               Day                   Day  \n",
              "2845339            Day            Day               Day                   Day  \n",
              "2845340            Day            Day               Day                   Day  \n",
              "2845341            Day            Day               Day                   Day  \n",
              "\n",
              "[2845342 rows x 47 columns]"
            ],
            "text/html": [
              "\n",
              "  <div id=\"df-c36e44f3-5292-42bb-b0de-b5acdceb9261\">\n",
              "    <div class=\"colab-df-container\">\n",
              "      <div>\n",
              "<style scoped>\n",
              "    .dataframe tbody tr th:only-of-type {\n",
              "        vertical-align: middle;\n",
              "    }\n",
              "\n",
              "    .dataframe tbody tr th {\n",
              "        vertical-align: top;\n",
              "    }\n",
              "\n",
              "    .dataframe thead th {\n",
              "        text-align: right;\n",
              "    }\n",
              "</style>\n",
              "<table border=\"1\" class=\"dataframe\">\n",
              "  <thead>\n",
              "    <tr style=\"text-align: right;\">\n",
              "      <th></th>\n",
              "      <th>ID</th>\n",
              "      <th>Severity</th>\n",
              "      <th>Start_Time</th>\n",
              "      <th>End_Time</th>\n",
              "      <th>Start_Lat</th>\n",
              "      <th>Start_Lng</th>\n",
              "      <th>End_Lat</th>\n",
              "      <th>End_Lng</th>\n",
              "      <th>Distance(mi)</th>\n",
              "      <th>Description</th>\n",
              "      <th>...</th>\n",
              "      <th>Roundabout</th>\n",
              "      <th>Station</th>\n",
              "      <th>Stop</th>\n",
              "      <th>Traffic_Calming</th>\n",
              "      <th>Traffic_Signal</th>\n",
              "      <th>Turning_Loop</th>\n",
              "      <th>Sunrise_Sunset</th>\n",
              "      <th>Civil_Twilight</th>\n",
              "      <th>Nautical_Twilight</th>\n",
              "      <th>Astronomical_Twilight</th>\n",
              "    </tr>\n",
              "  </thead>\n",
              "  <tbody>\n",
              "    <tr>\n",
              "      <th>0</th>\n",
              "      <td>A-1</td>\n",
              "      <td>3</td>\n",
              "      <td>2016-02-08 00:37:08</td>\n",
              "      <td>2016-02-08 06:37:08</td>\n",
              "      <td>40.108910</td>\n",
              "      <td>-83.092860</td>\n",
              "      <td>40.112060</td>\n",
              "      <td>-83.031870</td>\n",
              "      <td>3.230</td>\n",
              "      <td>Between Sawmill Rd/Exit 20 and OH-315/Olentang...</td>\n",
              "      <td>...</td>\n",
              "      <td>False</td>\n",
              "      <td>False</td>\n",
              "      <td>False</td>\n",
              "      <td>False</td>\n",
              "      <td>False</td>\n",
              "      <td>False</td>\n",
              "      <td>Night</td>\n",
              "      <td>Night</td>\n",
              "      <td>Night</td>\n",
              "      <td>Night</td>\n",
              "    </tr>\n",
              "    <tr>\n",
              "      <th>1</th>\n",
              "      <td>A-2</td>\n",
              "      <td>2</td>\n",
              "      <td>2016-02-08 05:56:20</td>\n",
              "      <td>2016-02-08 11:56:20</td>\n",
              "      <td>39.865420</td>\n",
              "      <td>-84.062800</td>\n",
              "      <td>39.865010</td>\n",
              "      <td>-84.048730</td>\n",
              "      <td>0.747</td>\n",
              "      <td>At OH-4/OH-235/Exit 41 - Accident.</td>\n",
              "      <td>...</td>\n",
              "      <td>False</td>\n",
              "      <td>False</td>\n",
              "      <td>False</td>\n",
              "      <td>False</td>\n",
              "      <td>False</td>\n",
              "      <td>False</td>\n",
              "      <td>Night</td>\n",
              "      <td>Night</td>\n",
              "      <td>Night</td>\n",
              "      <td>Night</td>\n",
              "    </tr>\n",
              "    <tr>\n",
              "      <th>2</th>\n",
              "      <td>A-3</td>\n",
              "      <td>2</td>\n",
              "      <td>2016-02-08 06:15:39</td>\n",
              "      <td>2016-02-08 12:15:39</td>\n",
              "      <td>39.102660</td>\n",
              "      <td>-84.524680</td>\n",
              "      <td>39.102090</td>\n",
              "      <td>-84.523960</td>\n",
              "      <td>0.055</td>\n",
              "      <td>At I-71/US-50/Exit 1 - Accident.</td>\n",
              "      <td>...</td>\n",
              "      <td>False</td>\n",
              "      <td>False</td>\n",
              "      <td>False</td>\n",
              "      <td>False</td>\n",
              "      <td>False</td>\n",
              "      <td>False</td>\n",
              "      <td>Night</td>\n",
              "      <td>Night</td>\n",
              "      <td>Night</td>\n",
              "      <td>Day</td>\n",
              "    </tr>\n",
              "    <tr>\n",
              "      <th>3</th>\n",
              "      <td>A-4</td>\n",
              "      <td>2</td>\n",
              "      <td>2016-02-08 06:51:45</td>\n",
              "      <td>2016-02-08 12:51:45</td>\n",
              "      <td>41.062130</td>\n",
              "      <td>-81.537840</td>\n",
              "      <td>41.062170</td>\n",
              "      <td>-81.535470</td>\n",
              "      <td>0.123</td>\n",
              "      <td>At Dart Ave/Exit 21 - Accident.</td>\n",
              "      <td>...</td>\n",
              "      <td>False</td>\n",
              "      <td>False</td>\n",
              "      <td>False</td>\n",
              "      <td>False</td>\n",
              "      <td>False</td>\n",
              "      <td>False</td>\n",
              "      <td>Night</td>\n",
              "      <td>Night</td>\n",
              "      <td>Day</td>\n",
              "      <td>Day</td>\n",
              "    </tr>\n",
              "    <tr>\n",
              "      <th>4</th>\n",
              "      <td>A-5</td>\n",
              "      <td>3</td>\n",
              "      <td>2016-02-08 07:53:43</td>\n",
              "      <td>2016-02-08 13:53:43</td>\n",
              "      <td>39.172393</td>\n",
              "      <td>-84.492792</td>\n",
              "      <td>39.170476</td>\n",
              "      <td>-84.501798</td>\n",
              "      <td>0.500</td>\n",
              "      <td>At Mitchell Ave/Exit 6 - Accident.</td>\n",
              "      <td>...</td>\n",
              "      <td>False</td>\n",
              "      <td>False</td>\n",
              "      <td>False</td>\n",
              "      <td>False</td>\n",
              "      <td>False</td>\n",
              "      <td>False</td>\n",
              "      <td>Day</td>\n",
              "      <td>Day</td>\n",
              "      <td>Day</td>\n",
              "      <td>Day</td>\n",
              "    </tr>\n",
              "    <tr>\n",
              "      <th>...</th>\n",
              "      <td>...</td>\n",
              "      <td>...</td>\n",
              "      <td>...</td>\n",
              "      <td>...</td>\n",
              "      <td>...</td>\n",
              "      <td>...</td>\n",
              "      <td>...</td>\n",
              "      <td>...</td>\n",
              "      <td>...</td>\n",
              "      <td>...</td>\n",
              "      <td>...</td>\n",
              "      <td>...</td>\n",
              "      <td>...</td>\n",
              "      <td>...</td>\n",
              "      <td>...</td>\n",
              "      <td>...</td>\n",
              "      <td>...</td>\n",
              "      <td>...</td>\n",
              "      <td>...</td>\n",
              "      <td>...</td>\n",
              "      <td>...</td>\n",
              "    </tr>\n",
              "    <tr>\n",
              "      <th>2845337</th>\n",
              "      <td>A-2845338</td>\n",
              "      <td>2</td>\n",
              "      <td>2019-08-23 18:03:25</td>\n",
              "      <td>2019-08-23 18:32:01</td>\n",
              "      <td>34.002480</td>\n",
              "      <td>-117.379360</td>\n",
              "      <td>33.998880</td>\n",
              "      <td>-117.370940</td>\n",
              "      <td>0.543</td>\n",
              "      <td>At Market St - Accident.</td>\n",
              "      <td>...</td>\n",
              "      <td>False</td>\n",
              "      <td>False</td>\n",
              "      <td>False</td>\n",
              "      <td>False</td>\n",
              "      <td>False</td>\n",
              "      <td>False</td>\n",
              "      <td>Day</td>\n",
              "      <td>Day</td>\n",
              "      <td>Day</td>\n",
              "      <td>Day</td>\n",
              "    </tr>\n",
              "    <tr>\n",
              "      <th>2845338</th>\n",
              "      <td>A-2845339</td>\n",
              "      <td>2</td>\n",
              "      <td>2019-08-23 19:11:30</td>\n",
              "      <td>2019-08-23 19:38:23</td>\n",
              "      <td>32.766960</td>\n",
              "      <td>-117.148060</td>\n",
              "      <td>32.765550</td>\n",
              "      <td>-117.153630</td>\n",
              "      <td>0.338</td>\n",
              "      <td>At Camino Del Rio/Mission Center Rd - Accident.</td>\n",
              "      <td>...</td>\n",
              "      <td>False</td>\n",
              "      <td>False</td>\n",
              "      <td>False</td>\n",
              "      <td>False</td>\n",
              "      <td>False</td>\n",
              "      <td>False</td>\n",
              "      <td>Day</td>\n",
              "      <td>Day</td>\n",
              "      <td>Day</td>\n",
              "      <td>Day</td>\n",
              "    </tr>\n",
              "    <tr>\n",
              "      <th>2845339</th>\n",
              "      <td>A-2845340</td>\n",
              "      <td>2</td>\n",
              "      <td>2019-08-23 19:00:21</td>\n",
              "      <td>2019-08-23 19:28:49</td>\n",
              "      <td>33.775450</td>\n",
              "      <td>-117.847790</td>\n",
              "      <td>33.777400</td>\n",
              "      <td>-117.857270</td>\n",
              "      <td>0.561</td>\n",
              "      <td>At Glassell St/Grand Ave - Accident. in the ri...</td>\n",
              "      <td>...</td>\n",
              "      <td>False</td>\n",
              "      <td>False</td>\n",
              "      <td>False</td>\n",
              "      <td>False</td>\n",
              "      <td>False</td>\n",
              "      <td>False</td>\n",
              "      <td>Day</td>\n",
              "      <td>Day</td>\n",
              "      <td>Day</td>\n",
              "      <td>Day</td>\n",
              "    </tr>\n",
              "    <tr>\n",
              "      <th>2845340</th>\n",
              "      <td>A-2845341</td>\n",
              "      <td>2</td>\n",
              "      <td>2019-08-23 19:00:21</td>\n",
              "      <td>2019-08-23 19:29:42</td>\n",
              "      <td>33.992460</td>\n",
              "      <td>-118.403020</td>\n",
              "      <td>33.983110</td>\n",
              "      <td>-118.395650</td>\n",
              "      <td>0.772</td>\n",
              "      <td>At CA-90/Marina Fwy/Jefferson Blvd - Accident.</td>\n",
              "      <td>...</td>\n",
              "      <td>False</td>\n",
              "      <td>False</td>\n",
              "      <td>False</td>\n",
              "      <td>False</td>\n",
              "      <td>False</td>\n",
              "      <td>False</td>\n",
              "      <td>Day</td>\n",
              "      <td>Day</td>\n",
              "      <td>Day</td>\n",
              "      <td>Day</td>\n",
              "    </tr>\n",
              "    <tr>\n",
              "      <th>2845341</th>\n",
              "      <td>A-2845342</td>\n",
              "      <td>2</td>\n",
              "      <td>2019-08-23 18:52:06</td>\n",
              "      <td>2019-08-23 19:21:31</td>\n",
              "      <td>34.133930</td>\n",
              "      <td>-117.230920</td>\n",
              "      <td>34.137360</td>\n",
              "      <td>-117.239340</td>\n",
              "      <td>0.537</td>\n",
              "      <td>At Highland Ave/Arden Ave - Accident.</td>\n",
              "      <td>...</td>\n",
              "      <td>False</td>\n",
              "      <td>False</td>\n",
              "      <td>False</td>\n",
              "      <td>False</td>\n",
              "      <td>False</td>\n",
              "      <td>False</td>\n",
              "      <td>Day</td>\n",
              "      <td>Day</td>\n",
              "      <td>Day</td>\n",
              "      <td>Day</td>\n",
              "    </tr>\n",
              "  </tbody>\n",
              "</table>\n",
              "<p>2845342 rows × 47 columns</p>\n",
              "</div>\n",
              "      <button class=\"colab-df-convert\" onclick=\"convertToInteractive('df-c36e44f3-5292-42bb-b0de-b5acdceb9261')\"\n",
              "              title=\"Convert this dataframe to an interactive table.\"\n",
              "              style=\"display:none;\">\n",
              "        \n",
              "  <svg xmlns=\"http://www.w3.org/2000/svg\" height=\"24px\"viewBox=\"0 0 24 24\"\n",
              "       width=\"24px\">\n",
              "    <path d=\"M0 0h24v24H0V0z\" fill=\"none\"/>\n",
              "    <path d=\"M18.56 5.44l.94 2.06.94-2.06 2.06-.94-2.06-.94-.94-2.06-.94 2.06-2.06.94zm-11 1L8.5 8.5l.94-2.06 2.06-.94-2.06-.94L8.5 2.5l-.94 2.06-2.06.94zm10 10l.94 2.06.94-2.06 2.06-.94-2.06-.94-.94-2.06-.94 2.06-2.06.94z\"/><path d=\"M17.41 7.96l-1.37-1.37c-.4-.4-.92-.59-1.43-.59-.52 0-1.04.2-1.43.59L10.3 9.45l-7.72 7.72c-.78.78-.78 2.05 0 2.83L4 21.41c.39.39.9.59 1.41.59.51 0 1.02-.2 1.41-.59l7.78-7.78 2.81-2.81c.8-.78.8-2.07 0-2.86zM5.41 20L4 18.59l7.72-7.72 1.47 1.35L5.41 20z\"/>\n",
              "  </svg>\n",
              "      </button>\n",
              "      \n",
              "  <style>\n",
              "    .colab-df-container {\n",
              "      display:flex;\n",
              "      flex-wrap:wrap;\n",
              "      gap: 12px;\n",
              "    }\n",
              "\n",
              "    .colab-df-convert {\n",
              "      background-color: #E8F0FE;\n",
              "      border: none;\n",
              "      border-radius: 50%;\n",
              "      cursor: pointer;\n",
              "      display: none;\n",
              "      fill: #1967D2;\n",
              "      height: 32px;\n",
              "      padding: 0 0 0 0;\n",
              "      width: 32px;\n",
              "    }\n",
              "\n",
              "    .colab-df-convert:hover {\n",
              "      background-color: #E2EBFA;\n",
              "      box-shadow: 0px 1px 2px rgba(60, 64, 67, 0.3), 0px 1px 3px 1px rgba(60, 64, 67, 0.15);\n",
              "      fill: #174EA6;\n",
              "    }\n",
              "\n",
              "    [theme=dark] .colab-df-convert {\n",
              "      background-color: #3B4455;\n",
              "      fill: #D2E3FC;\n",
              "    }\n",
              "\n",
              "    [theme=dark] .colab-df-convert:hover {\n",
              "      background-color: #434B5C;\n",
              "      box-shadow: 0px 1px 3px 1px rgba(0, 0, 0, 0.15);\n",
              "      filter: drop-shadow(0px 1px 2px rgba(0, 0, 0, 0.3));\n",
              "      fill: #FFFFFF;\n",
              "    }\n",
              "  </style>\n",
              "\n",
              "      <script>\n",
              "        const buttonEl =\n",
              "          document.querySelector('#df-c36e44f3-5292-42bb-b0de-b5acdceb9261 button.colab-df-convert');\n",
              "        buttonEl.style.display =\n",
              "          google.colab.kernel.accessAllowed ? 'block' : 'none';\n",
              "\n",
              "        async function convertToInteractive(key) {\n",
              "          const element = document.querySelector('#df-c36e44f3-5292-42bb-b0de-b5acdceb9261');\n",
              "          const dataTable =\n",
              "            await google.colab.kernel.invokeFunction('convertToInteractive',\n",
              "                                                     [key], {});\n",
              "          if (!dataTable) return;\n",
              "\n",
              "          const docLinkHtml = 'Like what you see? Visit the ' +\n",
              "            '<a target=\"_blank\" href=https://colab.research.google.com/notebooks/data_table.ipynb>data table notebook</a>'\n",
              "            + ' to learn more about interactive tables.';\n",
              "          element.innerHTML = '';\n",
              "          dataTable['output_type'] = 'display_data';\n",
              "          await google.colab.output.renderOutput(dataTable, element);\n",
              "          const docLink = document.createElement('div');\n",
              "          docLink.innerHTML = docLinkHtml;\n",
              "          element.appendChild(docLink);\n",
              "        }\n",
              "      </script>\n",
              "    </div>\n",
              "  </div>\n",
              "  "
            ]
          },
          "metadata": {},
          "execution_count": 12
        }
      ]
    },
    {
      "cell_type": "code",
      "execution_count": null,
      "metadata": {
        "colab": {
          "base_uri": "https://localhost:8080/"
        },
        "id": "gR611zBS-9vc",
        "outputId": "ae0f4089-f0cb-4d60-cd17-36591cca17a6"
      },
      "outputs": [
        {
          "output_type": "execute_result",
          "data": {
            "text/plain": [
              "Index(['ID', 'Severity', 'Start_Time', 'End_Time', 'Start_Lat', 'Start_Lng',\n",
              "       'End_Lat', 'End_Lng', 'Distance(mi)', 'Description', 'Number', 'Street',\n",
              "       'Side', 'City', 'County', 'State', 'Zipcode', 'Country', 'Timezone',\n",
              "       'Airport_Code', 'Weather_Timestamp', 'Temperature(F)', 'Wind_Chill(F)',\n",
              "       'Humidity(%)', 'Pressure(in)', 'Visibility(mi)', 'Wind_Direction',\n",
              "       'Wind_Speed(mph)', 'Precipitation(in)', 'Weather_Condition', 'Amenity',\n",
              "       'Bump', 'Crossing', 'Give_Way', 'Junction', 'No_Exit', 'Railway',\n",
              "       'Roundabout', 'Station', 'Stop', 'Traffic_Calming', 'Traffic_Signal',\n",
              "       'Turning_Loop', 'Sunrise_Sunset', 'Civil_Twilight', 'Nautical_Twilight',\n",
              "       'Astronomical_Twilight'],\n",
              "      dtype='object')"
            ]
          },
          "metadata": {},
          "execution_count": 14
        }
      ],
      "source": [
        "df.columns"
      ]
    },
    {
      "cell_type": "code",
      "source": [
        "len(df.columns)"
      ],
      "metadata": {
        "colab": {
          "base_uri": "https://localhost:8080/"
        },
        "id": "ZQFp1JnwJy6s",
        "outputId": "60626dba-3dd6-4e8d-b0aa-6c10a5480440"
      },
      "execution_count": null,
      "outputs": [
        {
          "output_type": "execute_result",
          "data": {
            "text/plain": [
              "47"
            ]
          },
          "metadata": {},
          "execution_count": 15
        }
      ]
    },
    {
      "cell_type": "code",
      "source": [
        "df.info()"
      ],
      "metadata": {
        "colab": {
          "base_uri": "https://localhost:8080/"
        },
        "id": "jmpWovNPJyzg",
        "outputId": "4d0fe2c6-c3b9-492b-a76a-d60f8b7dc73a"
      },
      "execution_count": null,
      "outputs": [
        {
          "output_type": "stream",
          "name": "stdout",
          "text": [
            "<class 'pandas.core.frame.DataFrame'>\n",
            "RangeIndex: 2845342 entries, 0 to 2845341\n",
            "Data columns (total 47 columns):\n",
            " #   Column                 Dtype  \n",
            "---  ------                 -----  \n",
            " 0   ID                     object \n",
            " 1   Severity               int64  \n",
            " 2   Start_Time             object \n",
            " 3   End_Time               object \n",
            " 4   Start_Lat              float64\n",
            " 5   Start_Lng              float64\n",
            " 6   End_Lat                float64\n",
            " 7   End_Lng                float64\n",
            " 8   Distance(mi)           float64\n",
            " 9   Description            object \n",
            " 10  Number                 float64\n",
            " 11  Street                 object \n",
            " 12  Side                   object \n",
            " 13  City                   object \n",
            " 14  County                 object \n",
            " 15  State                  object \n",
            " 16  Zipcode                object \n",
            " 17  Country                object \n",
            " 18  Timezone               object \n",
            " 19  Airport_Code           object \n",
            " 20  Weather_Timestamp      object \n",
            " 21  Temperature(F)         float64\n",
            " 22  Wind_Chill(F)          float64\n",
            " 23  Humidity(%)            float64\n",
            " 24  Pressure(in)           float64\n",
            " 25  Visibility(mi)         float64\n",
            " 26  Wind_Direction         object \n",
            " 27  Wind_Speed(mph)        float64\n",
            " 28  Precipitation(in)      float64\n",
            " 29  Weather_Condition      object \n",
            " 30  Amenity                bool   \n",
            " 31  Bump                   bool   \n",
            " 32  Crossing               bool   \n",
            " 33  Give_Way               bool   \n",
            " 34  Junction               bool   \n",
            " 35  No_Exit                bool   \n",
            " 36  Railway                bool   \n",
            " 37  Roundabout             bool   \n",
            " 38  Station                bool   \n",
            " 39  Stop                   bool   \n",
            " 40  Traffic_Calming        bool   \n",
            " 41  Traffic_Signal         bool   \n",
            " 42  Turning_Loop           bool   \n",
            " 43  Sunrise_Sunset         object \n",
            " 44  Civil_Twilight         object \n",
            " 45  Nautical_Twilight      object \n",
            " 46  Astronomical_Twilight  object \n",
            "dtypes: bool(13), float64(13), int64(1), object(20)\n",
            "memory usage: 773.4+ MB\n"
          ]
        }
      ]
    },
    {
      "cell_type": "code",
      "source": [
        "df.describe()"
      ],
      "metadata": {
        "colab": {
          "base_uri": "https://localhost:8080/",
          "height": 364
        },
        "id": "VAZAApG_JysB",
        "outputId": "e2a749c9-faf1-4f2b-f93b-57c1de7fa339"
      },
      "execution_count": null,
      "outputs": [
        {
          "output_type": "execute_result",
          "data": {
            "text/plain": [
              "           Severity     Start_Lat     Start_Lng       End_Lat       End_Lng  \\\n",
              "count  2.845342e+06  2.845342e+06  2.845342e+06  2.845342e+06  2.845342e+06   \n",
              "mean   2.137572e+00  3.624520e+01 -9.711463e+01  3.624532e+01 -9.711439e+01   \n",
              "std    4.787216e-01  5.363797e+00  1.831782e+01  5.363873e+00  1.831763e+01   \n",
              "min    1.000000e+00  2.456603e+01 -1.245481e+02  2.456601e+01 -1.245457e+02   \n",
              "25%    2.000000e+00  3.344517e+01 -1.180331e+02  3.344628e+01 -1.180333e+02   \n",
              "50%    2.000000e+00  3.609861e+01 -9.241808e+01  3.609799e+01 -9.241772e+01   \n",
              "75%    2.000000e+00  4.016024e+01 -8.037243e+01  4.016105e+01 -8.037338e+01   \n",
              "max    4.000000e+00  4.900058e+01 -6.711317e+01  4.907500e+01 -6.710924e+01   \n",
              "\n",
              "       Distance(mi)        Number  Temperature(F)  Wind_Chill(F)  \\\n",
              "count  2.845342e+06  1.101431e+06    2.776068e+06   2.375699e+06   \n",
              "mean   7.026779e-01  8.089408e+03    6.179356e+01   5.965823e+01   \n",
              "std    1.560361e+00  1.836009e+04    1.862263e+01   2.116097e+01   \n",
              "min    0.000000e+00  0.000000e+00   -8.900000e+01  -8.900000e+01   \n",
              "25%    5.200000e-02  1.270000e+03    5.000000e+01   4.600000e+01   \n",
              "50%    2.440000e-01  4.007000e+03    6.400000e+01   6.300000e+01   \n",
              "75%    7.640000e-01  9.567000e+03    7.600000e+01   7.600000e+01   \n",
              "max    1.551860e+02  9.999997e+06    1.960000e+02   1.960000e+02   \n",
              "\n",
              "        Humidity(%)  Pressure(in)  Visibility(mi)  Wind_Speed(mph)  \\\n",
              "count  2.772250e+06  2.786142e+06    2.774796e+06     2.687398e+06   \n",
              "mean   6.436545e+01  2.947234e+01    9.099391e+00     7.395044e+00   \n",
              "std    2.287457e+01  1.045286e+00    2.717546e+00     5.527454e+00   \n",
              "min    1.000000e+00  0.000000e+00    0.000000e+00     0.000000e+00   \n",
              "25%    4.800000e+01  2.931000e+01    1.000000e+01     3.500000e+00   \n",
              "50%    6.700000e+01  2.982000e+01    1.000000e+01     7.000000e+00   \n",
              "75%    8.300000e+01  3.001000e+01    1.000000e+01     1.000000e+01   \n",
              "max    1.000000e+02  5.890000e+01    1.400000e+02     1.087000e+03   \n",
              "\n",
              "       Precipitation(in)  \n",
              "count       2.295884e+06  \n",
              "mean        7.016940e-03  \n",
              "std         9.348831e-02  \n",
              "min         0.000000e+00  \n",
              "25%         0.000000e+00  \n",
              "50%         0.000000e+00  \n",
              "75%         0.000000e+00  \n",
              "max         2.400000e+01  "
            ],
            "text/html": [
              "\n",
              "  <div id=\"df-fd03d722-e798-4dc3-8152-e97ce68c3415\">\n",
              "    <div class=\"colab-df-container\">\n",
              "      <div>\n",
              "<style scoped>\n",
              "    .dataframe tbody tr th:only-of-type {\n",
              "        vertical-align: middle;\n",
              "    }\n",
              "\n",
              "    .dataframe tbody tr th {\n",
              "        vertical-align: top;\n",
              "    }\n",
              "\n",
              "    .dataframe thead th {\n",
              "        text-align: right;\n",
              "    }\n",
              "</style>\n",
              "<table border=\"1\" class=\"dataframe\">\n",
              "  <thead>\n",
              "    <tr style=\"text-align: right;\">\n",
              "      <th></th>\n",
              "      <th>Severity</th>\n",
              "      <th>Start_Lat</th>\n",
              "      <th>Start_Lng</th>\n",
              "      <th>End_Lat</th>\n",
              "      <th>End_Lng</th>\n",
              "      <th>Distance(mi)</th>\n",
              "      <th>Number</th>\n",
              "      <th>Temperature(F)</th>\n",
              "      <th>Wind_Chill(F)</th>\n",
              "      <th>Humidity(%)</th>\n",
              "      <th>Pressure(in)</th>\n",
              "      <th>Visibility(mi)</th>\n",
              "      <th>Wind_Speed(mph)</th>\n",
              "      <th>Precipitation(in)</th>\n",
              "    </tr>\n",
              "  </thead>\n",
              "  <tbody>\n",
              "    <tr>\n",
              "      <th>count</th>\n",
              "      <td>2.845342e+06</td>\n",
              "      <td>2.845342e+06</td>\n",
              "      <td>2.845342e+06</td>\n",
              "      <td>2.845342e+06</td>\n",
              "      <td>2.845342e+06</td>\n",
              "      <td>2.845342e+06</td>\n",
              "      <td>1.101431e+06</td>\n",
              "      <td>2.776068e+06</td>\n",
              "      <td>2.375699e+06</td>\n",
              "      <td>2.772250e+06</td>\n",
              "      <td>2.786142e+06</td>\n",
              "      <td>2.774796e+06</td>\n",
              "      <td>2.687398e+06</td>\n",
              "      <td>2.295884e+06</td>\n",
              "    </tr>\n",
              "    <tr>\n",
              "      <th>mean</th>\n",
              "      <td>2.137572e+00</td>\n",
              "      <td>3.624520e+01</td>\n",
              "      <td>-9.711463e+01</td>\n",
              "      <td>3.624532e+01</td>\n",
              "      <td>-9.711439e+01</td>\n",
              "      <td>7.026779e-01</td>\n",
              "      <td>8.089408e+03</td>\n",
              "      <td>6.179356e+01</td>\n",
              "      <td>5.965823e+01</td>\n",
              "      <td>6.436545e+01</td>\n",
              "      <td>2.947234e+01</td>\n",
              "      <td>9.099391e+00</td>\n",
              "      <td>7.395044e+00</td>\n",
              "      <td>7.016940e-03</td>\n",
              "    </tr>\n",
              "    <tr>\n",
              "      <th>std</th>\n",
              "      <td>4.787216e-01</td>\n",
              "      <td>5.363797e+00</td>\n",
              "      <td>1.831782e+01</td>\n",
              "      <td>5.363873e+00</td>\n",
              "      <td>1.831763e+01</td>\n",
              "      <td>1.560361e+00</td>\n",
              "      <td>1.836009e+04</td>\n",
              "      <td>1.862263e+01</td>\n",
              "      <td>2.116097e+01</td>\n",
              "      <td>2.287457e+01</td>\n",
              "      <td>1.045286e+00</td>\n",
              "      <td>2.717546e+00</td>\n",
              "      <td>5.527454e+00</td>\n",
              "      <td>9.348831e-02</td>\n",
              "    </tr>\n",
              "    <tr>\n",
              "      <th>min</th>\n",
              "      <td>1.000000e+00</td>\n",
              "      <td>2.456603e+01</td>\n",
              "      <td>-1.245481e+02</td>\n",
              "      <td>2.456601e+01</td>\n",
              "      <td>-1.245457e+02</td>\n",
              "      <td>0.000000e+00</td>\n",
              "      <td>0.000000e+00</td>\n",
              "      <td>-8.900000e+01</td>\n",
              "      <td>-8.900000e+01</td>\n",
              "      <td>1.000000e+00</td>\n",
              "      <td>0.000000e+00</td>\n",
              "      <td>0.000000e+00</td>\n",
              "      <td>0.000000e+00</td>\n",
              "      <td>0.000000e+00</td>\n",
              "    </tr>\n",
              "    <tr>\n",
              "      <th>25%</th>\n",
              "      <td>2.000000e+00</td>\n",
              "      <td>3.344517e+01</td>\n",
              "      <td>-1.180331e+02</td>\n",
              "      <td>3.344628e+01</td>\n",
              "      <td>-1.180333e+02</td>\n",
              "      <td>5.200000e-02</td>\n",
              "      <td>1.270000e+03</td>\n",
              "      <td>5.000000e+01</td>\n",
              "      <td>4.600000e+01</td>\n",
              "      <td>4.800000e+01</td>\n",
              "      <td>2.931000e+01</td>\n",
              "      <td>1.000000e+01</td>\n",
              "      <td>3.500000e+00</td>\n",
              "      <td>0.000000e+00</td>\n",
              "    </tr>\n",
              "    <tr>\n",
              "      <th>50%</th>\n",
              "      <td>2.000000e+00</td>\n",
              "      <td>3.609861e+01</td>\n",
              "      <td>-9.241808e+01</td>\n",
              "      <td>3.609799e+01</td>\n",
              "      <td>-9.241772e+01</td>\n",
              "      <td>2.440000e-01</td>\n",
              "      <td>4.007000e+03</td>\n",
              "      <td>6.400000e+01</td>\n",
              "      <td>6.300000e+01</td>\n",
              "      <td>6.700000e+01</td>\n",
              "      <td>2.982000e+01</td>\n",
              "      <td>1.000000e+01</td>\n",
              "      <td>7.000000e+00</td>\n",
              "      <td>0.000000e+00</td>\n",
              "    </tr>\n",
              "    <tr>\n",
              "      <th>75%</th>\n",
              "      <td>2.000000e+00</td>\n",
              "      <td>4.016024e+01</td>\n",
              "      <td>-8.037243e+01</td>\n",
              "      <td>4.016105e+01</td>\n",
              "      <td>-8.037338e+01</td>\n",
              "      <td>7.640000e-01</td>\n",
              "      <td>9.567000e+03</td>\n",
              "      <td>7.600000e+01</td>\n",
              "      <td>7.600000e+01</td>\n",
              "      <td>8.300000e+01</td>\n",
              "      <td>3.001000e+01</td>\n",
              "      <td>1.000000e+01</td>\n",
              "      <td>1.000000e+01</td>\n",
              "      <td>0.000000e+00</td>\n",
              "    </tr>\n",
              "    <tr>\n",
              "      <th>max</th>\n",
              "      <td>4.000000e+00</td>\n",
              "      <td>4.900058e+01</td>\n",
              "      <td>-6.711317e+01</td>\n",
              "      <td>4.907500e+01</td>\n",
              "      <td>-6.710924e+01</td>\n",
              "      <td>1.551860e+02</td>\n",
              "      <td>9.999997e+06</td>\n",
              "      <td>1.960000e+02</td>\n",
              "      <td>1.960000e+02</td>\n",
              "      <td>1.000000e+02</td>\n",
              "      <td>5.890000e+01</td>\n",
              "      <td>1.400000e+02</td>\n",
              "      <td>1.087000e+03</td>\n",
              "      <td>2.400000e+01</td>\n",
              "    </tr>\n",
              "  </tbody>\n",
              "</table>\n",
              "</div>\n",
              "      <button class=\"colab-df-convert\" onclick=\"convertToInteractive('df-fd03d722-e798-4dc3-8152-e97ce68c3415')\"\n",
              "              title=\"Convert this dataframe to an interactive table.\"\n",
              "              style=\"display:none;\">\n",
              "        \n",
              "  <svg xmlns=\"http://www.w3.org/2000/svg\" height=\"24px\"viewBox=\"0 0 24 24\"\n",
              "       width=\"24px\">\n",
              "    <path d=\"M0 0h24v24H0V0z\" fill=\"none\"/>\n",
              "    <path d=\"M18.56 5.44l.94 2.06.94-2.06 2.06-.94-2.06-.94-.94-2.06-.94 2.06-2.06.94zm-11 1L8.5 8.5l.94-2.06 2.06-.94-2.06-.94L8.5 2.5l-.94 2.06-2.06.94zm10 10l.94 2.06.94-2.06 2.06-.94-2.06-.94-.94-2.06-.94 2.06-2.06.94z\"/><path d=\"M17.41 7.96l-1.37-1.37c-.4-.4-.92-.59-1.43-.59-.52 0-1.04.2-1.43.59L10.3 9.45l-7.72 7.72c-.78.78-.78 2.05 0 2.83L4 21.41c.39.39.9.59 1.41.59.51 0 1.02-.2 1.41-.59l7.78-7.78 2.81-2.81c.8-.78.8-2.07 0-2.86zM5.41 20L4 18.59l7.72-7.72 1.47 1.35L5.41 20z\"/>\n",
              "  </svg>\n",
              "      </button>\n",
              "      \n",
              "  <style>\n",
              "    .colab-df-container {\n",
              "      display:flex;\n",
              "      flex-wrap:wrap;\n",
              "      gap: 12px;\n",
              "    }\n",
              "\n",
              "    .colab-df-convert {\n",
              "      background-color: #E8F0FE;\n",
              "      border: none;\n",
              "      border-radius: 50%;\n",
              "      cursor: pointer;\n",
              "      display: none;\n",
              "      fill: #1967D2;\n",
              "      height: 32px;\n",
              "      padding: 0 0 0 0;\n",
              "      width: 32px;\n",
              "    }\n",
              "\n",
              "    .colab-df-convert:hover {\n",
              "      background-color: #E2EBFA;\n",
              "      box-shadow: 0px 1px 2px rgba(60, 64, 67, 0.3), 0px 1px 3px 1px rgba(60, 64, 67, 0.15);\n",
              "      fill: #174EA6;\n",
              "    }\n",
              "\n",
              "    [theme=dark] .colab-df-convert {\n",
              "      background-color: #3B4455;\n",
              "      fill: #D2E3FC;\n",
              "    }\n",
              "\n",
              "    [theme=dark] .colab-df-convert:hover {\n",
              "      background-color: #434B5C;\n",
              "      box-shadow: 0px 1px 3px 1px rgba(0, 0, 0, 0.15);\n",
              "      filter: drop-shadow(0px 1px 2px rgba(0, 0, 0, 0.3));\n",
              "      fill: #FFFFFF;\n",
              "    }\n",
              "  </style>\n",
              "\n",
              "      <script>\n",
              "        const buttonEl =\n",
              "          document.querySelector('#df-fd03d722-e798-4dc3-8152-e97ce68c3415 button.colab-df-convert');\n",
              "        buttonEl.style.display =\n",
              "          google.colab.kernel.accessAllowed ? 'block' : 'none';\n",
              "\n",
              "        async function convertToInteractive(key) {\n",
              "          const element = document.querySelector('#df-fd03d722-e798-4dc3-8152-e97ce68c3415');\n",
              "          const dataTable =\n",
              "            await google.colab.kernel.invokeFunction('convertToInteractive',\n",
              "                                                     [key], {});\n",
              "          if (!dataTable) return;\n",
              "\n",
              "          const docLinkHtml = 'Like what you see? Visit the ' +\n",
              "            '<a target=\"_blank\" href=https://colab.research.google.com/notebooks/data_table.ipynb>data table notebook</a>'\n",
              "            + ' to learn more about interactive tables.';\n",
              "          element.innerHTML = '';\n",
              "          dataTable['output_type'] = 'display_data';\n",
              "          await google.colab.output.renderOutput(dataTable, element);\n",
              "          const docLink = document.createElement('div');\n",
              "          docLink.innerHTML = docLinkHtml;\n",
              "          element.appendChild(docLink);\n",
              "        }\n",
              "      </script>\n",
              "    </div>\n",
              "  </div>\n",
              "  "
            ]
          },
          "metadata": {},
          "execution_count": 18
        }
      ]
    },
    {
      "cell_type": "code",
      "source": [
        "#are thiere  more acidents in warmer or colder areas?\n",
        "#which 5 state have the highest number accident? how about per capital?"
      ],
      "metadata": {
        "id": "nEXkH55DKsdB"
      },
      "execution_count": null,
      "outputs": []
    },
    {
      "cell_type": "code",
      "source": [
        "numerics = ['int16', 'int32', 'int64', 'float16', 'float32', 'float64']\n",
        "\n",
        "numeric_df = df.select_dtypes(include=numerics)\n",
        "len(numeric_df.columns)\n"
      ],
      "metadata": {
        "colab": {
          "base_uri": "https://localhost:8080/"
        },
        "id": "uoRUSVclKsCw",
        "outputId": "4918d8e3-44f3-4c64-a348-3d6b3971deef"
      },
      "execution_count": 18,
      "outputs": [
        {
          "output_type": "execute_result",
          "data": {
            "text/plain": [
              "14"
            ]
          },
          "metadata": {},
          "execution_count": 18
        }
      ]
    },
    {
      "cell_type": "code",
      "source": [
        "#it is return true or false if there any value present null or  missing it return true or if niether one is present is return fals.\n",
        "\n",
        "df.isna()\n"
      ],
      "metadata": {
        "colab": {
          "base_uri": "https://localhost:8080/",
          "height": 488
        },
        "id": "ABRWazGwKrja",
        "outputId": "fdee5c94-cc98-405a-9596-6d3edeb8fa96"
      },
      "execution_count": 22,
      "outputs": [
        {
          "output_type": "execute_result",
          "data": {
            "text/plain": [
              "            ID  Severity  Start_Time  End_Time  Start_Lat  Start_Lng  End_Lat  \\\n",
              "0        False     False       False     False      False      False    False   \n",
              "1        False     False       False     False      False      False    False   \n",
              "2        False     False       False     False      False      False    False   \n",
              "3        False     False       False     False      False      False    False   \n",
              "4        False     False       False     False      False      False    False   \n",
              "...        ...       ...         ...       ...        ...        ...      ...   \n",
              "2845337  False     False       False     False      False      False    False   \n",
              "2845338  False     False       False     False      False      False    False   \n",
              "2845339  False     False       False     False      False      False    False   \n",
              "2845340  False     False       False     False      False      False    False   \n",
              "2845341  False     False       False     False      False      False    False   \n",
              "\n",
              "         End_Lng  Distance(mi)  Description  ...  Roundabout  Station   Stop  \\\n",
              "0          False         False        False  ...       False    False  False   \n",
              "1          False         False        False  ...       False    False  False   \n",
              "2          False         False        False  ...       False    False  False   \n",
              "3          False         False        False  ...       False    False  False   \n",
              "4          False         False        False  ...       False    False  False   \n",
              "...          ...           ...          ...  ...         ...      ...    ...   \n",
              "2845337    False         False        False  ...       False    False  False   \n",
              "2845338    False         False        False  ...       False    False  False   \n",
              "2845339    False         False        False  ...       False    False  False   \n",
              "2845340    False         False        False  ...       False    False  False   \n",
              "2845341    False         False        False  ...       False    False  False   \n",
              "\n",
              "         Traffic_Calming  Traffic_Signal  Turning_Loop  Sunrise_Sunset  \\\n",
              "0                  False           False         False           False   \n",
              "1                  False           False         False           False   \n",
              "2                  False           False         False           False   \n",
              "3                  False           False         False           False   \n",
              "4                  False           False         False           False   \n",
              "...                  ...             ...           ...             ...   \n",
              "2845337            False           False         False           False   \n",
              "2845338            False           False         False           False   \n",
              "2845339            False           False         False           False   \n",
              "2845340            False           False         False           False   \n",
              "2845341            False           False         False           False   \n",
              "\n",
              "         Civil_Twilight  Nautical_Twilight  Astronomical_Twilight  \n",
              "0                 False              False                  False  \n",
              "1                 False              False                  False  \n",
              "2                 False              False                  False  \n",
              "3                 False              False                  False  \n",
              "4                 False              False                  False  \n",
              "...                 ...                ...                    ...  \n",
              "2845337           False              False                  False  \n",
              "2845338           False              False                  False  \n",
              "2845339           False              False                  False  \n",
              "2845340           False              False                  False  \n",
              "2845341           False              False                  False  \n",
              "\n",
              "[2845342 rows x 47 columns]"
            ],
            "text/html": [
              "\n",
              "  <div id=\"df-db76a74e-590f-4e65-8830-c6f3fac7b07e\">\n",
              "    <div class=\"colab-df-container\">\n",
              "      <div>\n",
              "<style scoped>\n",
              "    .dataframe tbody tr th:only-of-type {\n",
              "        vertical-align: middle;\n",
              "    }\n",
              "\n",
              "    .dataframe tbody tr th {\n",
              "        vertical-align: top;\n",
              "    }\n",
              "\n",
              "    .dataframe thead th {\n",
              "        text-align: right;\n",
              "    }\n",
              "</style>\n",
              "<table border=\"1\" class=\"dataframe\">\n",
              "  <thead>\n",
              "    <tr style=\"text-align: right;\">\n",
              "      <th></th>\n",
              "      <th>ID</th>\n",
              "      <th>Severity</th>\n",
              "      <th>Start_Time</th>\n",
              "      <th>End_Time</th>\n",
              "      <th>Start_Lat</th>\n",
              "      <th>Start_Lng</th>\n",
              "      <th>End_Lat</th>\n",
              "      <th>End_Lng</th>\n",
              "      <th>Distance(mi)</th>\n",
              "      <th>Description</th>\n",
              "      <th>...</th>\n",
              "      <th>Roundabout</th>\n",
              "      <th>Station</th>\n",
              "      <th>Stop</th>\n",
              "      <th>Traffic_Calming</th>\n",
              "      <th>Traffic_Signal</th>\n",
              "      <th>Turning_Loop</th>\n",
              "      <th>Sunrise_Sunset</th>\n",
              "      <th>Civil_Twilight</th>\n",
              "      <th>Nautical_Twilight</th>\n",
              "      <th>Astronomical_Twilight</th>\n",
              "    </tr>\n",
              "  </thead>\n",
              "  <tbody>\n",
              "    <tr>\n",
              "      <th>0</th>\n",
              "      <td>False</td>\n",
              "      <td>False</td>\n",
              "      <td>False</td>\n",
              "      <td>False</td>\n",
              "      <td>False</td>\n",
              "      <td>False</td>\n",
              "      <td>False</td>\n",
              "      <td>False</td>\n",
              "      <td>False</td>\n",
              "      <td>False</td>\n",
              "      <td>...</td>\n",
              "      <td>False</td>\n",
              "      <td>False</td>\n",
              "      <td>False</td>\n",
              "      <td>False</td>\n",
              "      <td>False</td>\n",
              "      <td>False</td>\n",
              "      <td>False</td>\n",
              "      <td>False</td>\n",
              "      <td>False</td>\n",
              "      <td>False</td>\n",
              "    </tr>\n",
              "    <tr>\n",
              "      <th>1</th>\n",
              "      <td>False</td>\n",
              "      <td>False</td>\n",
              "      <td>False</td>\n",
              "      <td>False</td>\n",
              "      <td>False</td>\n",
              "      <td>False</td>\n",
              "      <td>False</td>\n",
              "      <td>False</td>\n",
              "      <td>False</td>\n",
              "      <td>False</td>\n",
              "      <td>...</td>\n",
              "      <td>False</td>\n",
              "      <td>False</td>\n",
              "      <td>False</td>\n",
              "      <td>False</td>\n",
              "      <td>False</td>\n",
              "      <td>False</td>\n",
              "      <td>False</td>\n",
              "      <td>False</td>\n",
              "      <td>False</td>\n",
              "      <td>False</td>\n",
              "    </tr>\n",
              "    <tr>\n",
              "      <th>2</th>\n",
              "      <td>False</td>\n",
              "      <td>False</td>\n",
              "      <td>False</td>\n",
              "      <td>False</td>\n",
              "      <td>False</td>\n",
              "      <td>False</td>\n",
              "      <td>False</td>\n",
              "      <td>False</td>\n",
              "      <td>False</td>\n",
              "      <td>False</td>\n",
              "      <td>...</td>\n",
              "      <td>False</td>\n",
              "      <td>False</td>\n",
              "      <td>False</td>\n",
              "      <td>False</td>\n",
              "      <td>False</td>\n",
              "      <td>False</td>\n",
              "      <td>False</td>\n",
              "      <td>False</td>\n",
              "      <td>False</td>\n",
              "      <td>False</td>\n",
              "    </tr>\n",
              "    <tr>\n",
              "      <th>3</th>\n",
              "      <td>False</td>\n",
              "      <td>False</td>\n",
              "      <td>False</td>\n",
              "      <td>False</td>\n",
              "      <td>False</td>\n",
              "      <td>False</td>\n",
              "      <td>False</td>\n",
              "      <td>False</td>\n",
              "      <td>False</td>\n",
              "      <td>False</td>\n",
              "      <td>...</td>\n",
              "      <td>False</td>\n",
              "      <td>False</td>\n",
              "      <td>False</td>\n",
              "      <td>False</td>\n",
              "      <td>False</td>\n",
              "      <td>False</td>\n",
              "      <td>False</td>\n",
              "      <td>False</td>\n",
              "      <td>False</td>\n",
              "      <td>False</td>\n",
              "    </tr>\n",
              "    <tr>\n",
              "      <th>4</th>\n",
              "      <td>False</td>\n",
              "      <td>False</td>\n",
              "      <td>False</td>\n",
              "      <td>False</td>\n",
              "      <td>False</td>\n",
              "      <td>False</td>\n",
              "      <td>False</td>\n",
              "      <td>False</td>\n",
              "      <td>False</td>\n",
              "      <td>False</td>\n",
              "      <td>...</td>\n",
              "      <td>False</td>\n",
              "      <td>False</td>\n",
              "      <td>False</td>\n",
              "      <td>False</td>\n",
              "      <td>False</td>\n",
              "      <td>False</td>\n",
              "      <td>False</td>\n",
              "      <td>False</td>\n",
              "      <td>False</td>\n",
              "      <td>False</td>\n",
              "    </tr>\n",
              "    <tr>\n",
              "      <th>...</th>\n",
              "      <td>...</td>\n",
              "      <td>...</td>\n",
              "      <td>...</td>\n",
              "      <td>...</td>\n",
              "      <td>...</td>\n",
              "      <td>...</td>\n",
              "      <td>...</td>\n",
              "      <td>...</td>\n",
              "      <td>...</td>\n",
              "      <td>...</td>\n",
              "      <td>...</td>\n",
              "      <td>...</td>\n",
              "      <td>...</td>\n",
              "      <td>...</td>\n",
              "      <td>...</td>\n",
              "      <td>...</td>\n",
              "      <td>...</td>\n",
              "      <td>...</td>\n",
              "      <td>...</td>\n",
              "      <td>...</td>\n",
              "      <td>...</td>\n",
              "    </tr>\n",
              "    <tr>\n",
              "      <th>2845337</th>\n",
              "      <td>False</td>\n",
              "      <td>False</td>\n",
              "      <td>False</td>\n",
              "      <td>False</td>\n",
              "      <td>False</td>\n",
              "      <td>False</td>\n",
              "      <td>False</td>\n",
              "      <td>False</td>\n",
              "      <td>False</td>\n",
              "      <td>False</td>\n",
              "      <td>...</td>\n",
              "      <td>False</td>\n",
              "      <td>False</td>\n",
              "      <td>False</td>\n",
              "      <td>False</td>\n",
              "      <td>False</td>\n",
              "      <td>False</td>\n",
              "      <td>False</td>\n",
              "      <td>False</td>\n",
              "      <td>False</td>\n",
              "      <td>False</td>\n",
              "    </tr>\n",
              "    <tr>\n",
              "      <th>2845338</th>\n",
              "      <td>False</td>\n",
              "      <td>False</td>\n",
              "      <td>False</td>\n",
              "      <td>False</td>\n",
              "      <td>False</td>\n",
              "      <td>False</td>\n",
              "      <td>False</td>\n",
              "      <td>False</td>\n",
              "      <td>False</td>\n",
              "      <td>False</td>\n",
              "      <td>...</td>\n",
              "      <td>False</td>\n",
              "      <td>False</td>\n",
              "      <td>False</td>\n",
              "      <td>False</td>\n",
              "      <td>False</td>\n",
              "      <td>False</td>\n",
              "      <td>False</td>\n",
              "      <td>False</td>\n",
              "      <td>False</td>\n",
              "      <td>False</td>\n",
              "    </tr>\n",
              "    <tr>\n",
              "      <th>2845339</th>\n",
              "      <td>False</td>\n",
              "      <td>False</td>\n",
              "      <td>False</td>\n",
              "      <td>False</td>\n",
              "      <td>False</td>\n",
              "      <td>False</td>\n",
              "      <td>False</td>\n",
              "      <td>False</td>\n",
              "      <td>False</td>\n",
              "      <td>False</td>\n",
              "      <td>...</td>\n",
              "      <td>False</td>\n",
              "      <td>False</td>\n",
              "      <td>False</td>\n",
              "      <td>False</td>\n",
              "      <td>False</td>\n",
              "      <td>False</td>\n",
              "      <td>False</td>\n",
              "      <td>False</td>\n",
              "      <td>False</td>\n",
              "      <td>False</td>\n",
              "    </tr>\n",
              "    <tr>\n",
              "      <th>2845340</th>\n",
              "      <td>False</td>\n",
              "      <td>False</td>\n",
              "      <td>False</td>\n",
              "      <td>False</td>\n",
              "      <td>False</td>\n",
              "      <td>False</td>\n",
              "      <td>False</td>\n",
              "      <td>False</td>\n",
              "      <td>False</td>\n",
              "      <td>False</td>\n",
              "      <td>...</td>\n",
              "      <td>False</td>\n",
              "      <td>False</td>\n",
              "      <td>False</td>\n",
              "      <td>False</td>\n",
              "      <td>False</td>\n",
              "      <td>False</td>\n",
              "      <td>False</td>\n",
              "      <td>False</td>\n",
              "      <td>False</td>\n",
              "      <td>False</td>\n",
              "    </tr>\n",
              "    <tr>\n",
              "      <th>2845341</th>\n",
              "      <td>False</td>\n",
              "      <td>False</td>\n",
              "      <td>False</td>\n",
              "      <td>False</td>\n",
              "      <td>False</td>\n",
              "      <td>False</td>\n",
              "      <td>False</td>\n",
              "      <td>False</td>\n",
              "      <td>False</td>\n",
              "      <td>False</td>\n",
              "      <td>...</td>\n",
              "      <td>False</td>\n",
              "      <td>False</td>\n",
              "      <td>False</td>\n",
              "      <td>False</td>\n",
              "      <td>False</td>\n",
              "      <td>False</td>\n",
              "      <td>False</td>\n",
              "      <td>False</td>\n",
              "      <td>False</td>\n",
              "      <td>False</td>\n",
              "    </tr>\n",
              "  </tbody>\n",
              "</table>\n",
              "<p>2845342 rows × 47 columns</p>\n",
              "</div>\n",
              "      <button class=\"colab-df-convert\" onclick=\"convertToInteractive('df-db76a74e-590f-4e65-8830-c6f3fac7b07e')\"\n",
              "              title=\"Convert this dataframe to an interactive table.\"\n",
              "              style=\"display:none;\">\n",
              "        \n",
              "  <svg xmlns=\"http://www.w3.org/2000/svg\" height=\"24px\"viewBox=\"0 0 24 24\"\n",
              "       width=\"24px\">\n",
              "    <path d=\"M0 0h24v24H0V0z\" fill=\"none\"/>\n",
              "    <path d=\"M18.56 5.44l.94 2.06.94-2.06 2.06-.94-2.06-.94-.94-2.06-.94 2.06-2.06.94zm-11 1L8.5 8.5l.94-2.06 2.06-.94-2.06-.94L8.5 2.5l-.94 2.06-2.06.94zm10 10l.94 2.06.94-2.06 2.06-.94-2.06-.94-.94-2.06-.94 2.06-2.06.94z\"/><path d=\"M17.41 7.96l-1.37-1.37c-.4-.4-.92-.59-1.43-.59-.52 0-1.04.2-1.43.59L10.3 9.45l-7.72 7.72c-.78.78-.78 2.05 0 2.83L4 21.41c.39.39.9.59 1.41.59.51 0 1.02-.2 1.41-.59l7.78-7.78 2.81-2.81c.8-.78.8-2.07 0-2.86zM5.41 20L4 18.59l7.72-7.72 1.47 1.35L5.41 20z\"/>\n",
              "  </svg>\n",
              "      </button>\n",
              "      \n",
              "  <style>\n",
              "    .colab-df-container {\n",
              "      display:flex;\n",
              "      flex-wrap:wrap;\n",
              "      gap: 12px;\n",
              "    }\n",
              "\n",
              "    .colab-df-convert {\n",
              "      background-color: #E8F0FE;\n",
              "      border: none;\n",
              "      border-radius: 50%;\n",
              "      cursor: pointer;\n",
              "      display: none;\n",
              "      fill: #1967D2;\n",
              "      height: 32px;\n",
              "      padding: 0 0 0 0;\n",
              "      width: 32px;\n",
              "    }\n",
              "\n",
              "    .colab-df-convert:hover {\n",
              "      background-color: #E2EBFA;\n",
              "      box-shadow: 0px 1px 2px rgba(60, 64, 67, 0.3), 0px 1px 3px 1px rgba(60, 64, 67, 0.15);\n",
              "      fill: #174EA6;\n",
              "    }\n",
              "\n",
              "    [theme=dark] .colab-df-convert {\n",
              "      background-color: #3B4455;\n",
              "      fill: #D2E3FC;\n",
              "    }\n",
              "\n",
              "    [theme=dark] .colab-df-convert:hover {\n",
              "      background-color: #434B5C;\n",
              "      box-shadow: 0px 1px 3px 1px rgba(0, 0, 0, 0.15);\n",
              "      filter: drop-shadow(0px 1px 2px rgba(0, 0, 0, 0.3));\n",
              "      fill: #FFFFFF;\n",
              "    }\n",
              "  </style>\n",
              "\n",
              "      <script>\n",
              "        const buttonEl =\n",
              "          document.querySelector('#df-db76a74e-590f-4e65-8830-c6f3fac7b07e button.colab-df-convert');\n",
              "        buttonEl.style.display =\n",
              "          google.colab.kernel.accessAllowed ? 'block' : 'none';\n",
              "\n",
              "        async function convertToInteractive(key) {\n",
              "          const element = document.querySelector('#df-db76a74e-590f-4e65-8830-c6f3fac7b07e');\n",
              "          const dataTable =\n",
              "            await google.colab.kernel.invokeFunction('convertToInteractive',\n",
              "                                                     [key], {});\n",
              "          if (!dataTable) return;\n",
              "\n",
              "          const docLinkHtml = 'Like what you see? Visit the ' +\n",
              "            '<a target=\"_blank\" href=https://colab.research.google.com/notebooks/data_table.ipynb>data table notebook</a>'\n",
              "            + ' to learn more about interactive tables.';\n",
              "          element.innerHTML = '';\n",
              "          dataTable['output_type'] = 'display_data';\n",
              "          await google.colab.output.renderOutput(dataTable, element);\n",
              "          const docLink = document.createElement('div');\n",
              "          docLink.innerHTML = docLinkHtml;\n",
              "          element.appendChild(docLink);\n",
              "        }\n",
              "      </script>\n",
              "    </div>\n",
              "  </div>\n",
              "  "
            ]
          },
          "metadata": {},
          "execution_count": 22
        }
      ]
    },
    {
      "cell_type": "code",
      "source": [
        "#missing value\n",
        "missing_percentages = df.isna().sum().sort_values(ascending = False)/len(df)\n",
        "missing_percentages"
      ],
      "metadata": {
        "colab": {
          "base_uri": "https://localhost:8080/"
        },
        "id": "6VTOYQdBKrdM",
        "outputId": "e3a27fb0-fd4f-4741-ffe2-8df4955aadbb"
      },
      "execution_count": 21,
      "outputs": [
        {
          "output_type": "execute_result",
          "data": {
            "text/plain": [
              "Number                   6.129003e-01\n",
              "Precipitation(in)        1.931079e-01\n",
              "Wind_Chill(F)            1.650568e-01\n",
              "Wind_Speed(mph)          5.550967e-02\n",
              "Wind_Direction           2.592834e-02\n",
              "Humidity(%)              2.568830e-02\n",
              "Weather_Condition        2.482514e-02\n",
              "Visibility(mi)           2.479350e-02\n",
              "Temperature(F)           2.434646e-02\n",
              "Pressure(in)             2.080593e-02\n",
              "Weather_Timestamp        1.783125e-02\n",
              "Airport_Code             3.356011e-03\n",
              "Timezone                 1.285961e-03\n",
              "Nautical_Twilight        1.007612e-03\n",
              "Civil_Twilight           1.007612e-03\n",
              "Sunrise_Sunset           1.007612e-03\n",
              "Astronomical_Twilight    1.007612e-03\n",
              "Zipcode                  4.635647e-04\n",
              "City                     4.814887e-05\n",
              "Street                   7.029032e-07\n",
              "Country                  0.000000e+00\n",
              "Junction                 0.000000e+00\n",
              "Start_Time               0.000000e+00\n",
              "End_Time                 0.000000e+00\n",
              "Start_Lat                0.000000e+00\n",
              "Turning_Loop             0.000000e+00\n",
              "Traffic_Signal           0.000000e+00\n",
              "Traffic_Calming          0.000000e+00\n",
              "Stop                     0.000000e+00\n",
              "Station                  0.000000e+00\n",
              "Roundabout               0.000000e+00\n",
              "Railway                  0.000000e+00\n",
              "No_Exit                  0.000000e+00\n",
              "Crossing                 0.000000e+00\n",
              "Give_Way                 0.000000e+00\n",
              "Bump                     0.000000e+00\n",
              "Amenity                  0.000000e+00\n",
              "Start_Lng                0.000000e+00\n",
              "End_Lat                  0.000000e+00\n",
              "End_Lng                  0.000000e+00\n",
              "Distance(mi)             0.000000e+00\n",
              "Description              0.000000e+00\n",
              "Severity                 0.000000e+00\n",
              "Side                     0.000000e+00\n",
              "County                   0.000000e+00\n",
              "State                    0.000000e+00\n",
              "ID                       0.000000e+00\n",
              "dtype: float64"
            ]
          },
          "metadata": {},
          "execution_count": 21
        }
      ]
    },
    {
      "cell_type": "code",
      "source": [
        "#indexing remove the false value\n",
        "missing_percentages[missing_percentages!= 0]"
      ],
      "metadata": {
        "colab": {
          "base_uri": "https://localhost:8080/"
        },
        "id": "0ej956-FSsg6",
        "outputId": "76262ce2-f952-4bee-cc34-12471d5f1361"
      },
      "execution_count": 23,
      "outputs": [
        {
          "output_type": "execute_result",
          "data": {
            "text/plain": [
              "Number                   6.129003e-01\n",
              "Precipitation(in)        1.931079e-01\n",
              "Wind_Chill(F)            1.650568e-01\n",
              "Wind_Speed(mph)          5.550967e-02\n",
              "Wind_Direction           2.592834e-02\n",
              "Humidity(%)              2.568830e-02\n",
              "Weather_Condition        2.482514e-02\n",
              "Visibility(mi)           2.479350e-02\n",
              "Temperature(F)           2.434646e-02\n",
              "Pressure(in)             2.080593e-02\n",
              "Weather_Timestamp        1.783125e-02\n",
              "Airport_Code             3.356011e-03\n",
              "Timezone                 1.285961e-03\n",
              "Nautical_Twilight        1.007612e-03\n",
              "Civil_Twilight           1.007612e-03\n",
              "Sunrise_Sunset           1.007612e-03\n",
              "Astronomical_Twilight    1.007612e-03\n",
              "Zipcode                  4.635647e-04\n",
              "City                     4.814887e-05\n",
              "Street                   7.029032e-07\n",
              "dtype: float64"
            ]
          },
          "metadata": {},
          "execution_count": 23
        }
      ]
    },
    {
      "cell_type": "code",
      "source": [
        "missing_percentages[missing_percentages!= 0].plot(kind = 'barh')"
      ],
      "metadata": {
        "colab": {
          "base_uri": "https://localhost:8080/",
          "height": 282
        },
        "id": "437b53u8KrLz",
        "outputId": "f19ba388-1fc7-46bc-cbb4-6b64cb2ec484"
      },
      "execution_count": 24,
      "outputs": [
        {
          "output_type": "execute_result",
          "data": {
            "text/plain": [
              "<matplotlib.axes._subplots.AxesSubplot at 0x7f500e07ced0>"
            ]
          },
          "metadata": {},
          "execution_count": 24
        },
        {
          "output_type": "display_data",
          "data": {
            "text/plain": [
              "<Figure size 432x288 with 1 Axes>"
            ],
            "image/png": "[encoded data removed]"
          },
          "metadata": {}
        }
      ]
    },
    {
      "cell_type": "code",
      "source": [],
      "metadata": {
        "id": "rDVtzDmpJygu"
      },
      "execution_count": null,
      "outputs": []
    },
    {
      "cell_type": "markdown",
      "source": [
        "##Exploratry Analysis and visualization\n",
        "the column is use \n",
        "city,start time ,start lat,startlng,tempreture , weather condition"
      ],
      "metadata": {
        "id": "utsiPhhzUfs3"
      }
    },
    {
      "cell_type": "code",
      "source": [
        "df.columns"
      ],
      "metadata": {
        "colab": {
          "base_uri": "https://localhost:8080/"
        },
        "id": "CBalAeFtT8iK",
        "outputId": "9253d70e-abe3-4c75-edee-da29c671c954"
      },
      "execution_count": null,
      "outputs": [
        {
          "output_type": "execute_result",
          "data": {
            "text/plain": [
              "Index(['ID', 'Severity', 'Start_Time', 'End_Time', 'Start_Lat', 'Start_Lng',\n",
              "       'End_Lat', 'End_Lng', 'Distance(mi)', 'Description', 'Number', 'Street',\n",
              "       'Side', 'City', 'County', 'State', 'Zipcode', 'Country', 'Timezone',\n",
              "       'Airport_Code', 'Weather_Timestamp', 'Temperature(F)', 'Wind_Chill(F)',\n",
              "       'Humidity(%)', 'Pressure(in)', 'Visibility(mi)', 'Wind_Direction',\n",
              "       'Wind_Speed(mph)', 'Precipitation(in)', 'Weather_Condition', 'Amenity',\n",
              "       'Bump', 'Crossing', 'Give_Way', 'Junction', 'No_Exit', 'Railway',\n",
              "       'Roundabout', 'Station', 'Stop', 'Traffic_Calming', 'Traffic_Signal',\n",
              "       'Turning_Loop', 'Sunrise_Sunset', 'Civil_Twilight', 'Nautical_Twilight',\n",
              "       'Astronomical_Twilight'],\n",
              "      dtype='object')"
            ]
          },
          "metadata": {},
          "execution_count": 31
        }
      ]
    },
    {
      "cell_type": "code",
      "source": [
        "##city"
      ],
      "metadata": {
        "id": "iTXnFsXvudFQ"
      },
      "execution_count": null,
      "outputs": []
    },
    {
      "cell_type": "code",
      "source": [
        "df.City"
      ],
      "metadata": {
        "colab": {
          "base_uri": "https://localhost:8080/"
        },
        "id": "YZVWg7LWT8dR",
        "outputId": "ecfc0535-5210-450a-f72e-766c886bd18c"
      },
      "execution_count": null,
      "outputs": [
        {
          "output_type": "execute_result",
          "data": {
            "text/plain": [
              "0               Dublin\n",
              "1               Dayton\n",
              "2           Cincinnati\n",
              "3                Akron\n",
              "4           Cincinnati\n",
              "              ...     \n",
              "2845337      Riverside\n",
              "2845338      San Diego\n",
              "2845339         Orange\n",
              "2845340    Culver City\n",
              "2845341       Highland\n",
              "Name: City, Length: 2845342, dtype: object"
            ]
          },
          "metadata": {},
          "execution_count": 33
        }
      ]
    },
    {
      "cell_type": "code",
      "source": [
        " cities = df.City.unique()\n",
        " len(cities)\n",
        "# cities[:100]"
      ],
      "metadata": {
        "colab": {
          "base_uri": "https://localhost:8080/"
        },
        "id": "paY5HlqcT8YJ",
        "outputId": "3c131987-ac03-41db-eb10-99e090c4bef3"
      },
      "execution_count": 25,
      "outputs": [
        {
          "output_type": "execute_result",
          "data": {
            "text/plain": [
              "11682"
            ]
          },
          "metadata": {},
          "execution_count": 25
        }
      ]
    },
    {
      "cell_type": "code",
      "source": [
        "cities_by_accident = df.City.value_counts()\n",
        "cities_by_accident"
      ],
      "metadata": {
        "colab": {
          "base_uri": "https://localhost:8080/"
        },
        "id": "gwWMdYkQT8SK",
        "outputId": "409874cd-1371-44ba-fe71-6030d3dd8e19"
      },
      "execution_count": 26,
      "outputs": [
        {
          "output_type": "execute_result",
          "data": {
            "text/plain": [
              "Miami                           106966\n",
              "Los Angeles                      68956\n",
              "Orlando                          54691\n",
              "Dallas                           41979\n",
              "Houston                          39448\n",
              "                                 ...  \n",
              "Ridgedale                            1\n",
              "Sekiu                                1\n",
              "Wooldridge                           1\n",
              "Bullock                              1\n",
              "American Fork-Pleasant Grove         1\n",
              "Name: City, Length: 11681, dtype: int64"
            ]
          },
          "metadata": {},
          "execution_count": 26
        }
      ]
    },
    {
      "cell_type": "code",
      "source": [
        "cities_by_accident[:10]"
      ],
      "metadata": {
        "colab": {
          "base_uri": "https://localhost:8080/"
        },
        "id": "EZ0ZCoQST8MF",
        "outputId": "905c2042-af95-4ae5-f356-7e181512463d"
      },
      "execution_count": 27,
      "outputs": [
        {
          "output_type": "execute_result",
          "data": {
            "text/plain": [
              "Miami          106966\n",
              "Los Angeles     68956\n",
              "Orlando         54691\n",
              "Dallas          41979\n",
              "Houston         39448\n",
              "Charlotte       33152\n",
              "Sacramento      32559\n",
              "San Diego       26627\n",
              "Raleigh         22840\n",
              "Minneapolis     22768\n",
              "Name: City, dtype: int64"
            ]
          },
          "metadata": {},
          "execution_count": 27
        }
      ]
    },
    {
      "cell_type": "code",
      "source": [
        "'state' in df"
      ],
      "metadata": {
        "colab": {
          "base_uri": "https://localhost:8080/"
        },
        "id": "9Rse-y_hT8Ft",
        "outputId": "3af5d503-ceaa-4ceb-8ad1-f7249b21202f"
      },
      "execution_count": null,
      "outputs": [
        {
          "output_type": "execute_result",
          "data": {
            "text/plain": [
              "False"
            ]
          },
          "metadata": {},
          "execution_count": 43
        }
      ]
    },
    {
      "cell_type": "code",
      "source": [
        "df.head()"
      ],
      "metadata": {
        "colab": {
          "base_uri": "https://localhost:8080/",
          "height": 508
        },
        "id": "ccVNFoygbdHe",
        "outputId": "a9752bc7-e73b-4e17-f494-b788ff4b0a10"
      },
      "execution_count": null,
      "outputs": [
        {
          "output_type": "execute_result",
          "data": {
            "text/plain": [
              "    ID  Severity           Start_Time             End_Time  Start_Lat  \\\n",
              "0  A-1         3  2016-02-08 00:37:08  2016-02-08 06:37:08  40.108910   \n",
              "1  A-2         2  2016-02-08 05:56:20  2016-02-08 11:56:20  39.865420   \n",
              "2  A-3         2  2016-02-08 06:15:39  2016-02-08 12:15:39  39.102660   \n",
              "3  A-4         2  2016-02-08 06:51:45  2016-02-08 12:51:45  41.062130   \n",
              "4  A-5         3  2016-02-08 07:53:43  2016-02-08 13:53:43  39.172393   \n",
              "\n",
              "   Start_Lng    End_Lat    End_Lng  Distance(mi)  \\\n",
              "0 -83.092860  40.112060 -83.031870         3.230   \n",
              "1 -84.062800  39.865010 -84.048730         0.747   \n",
              "2 -84.524680  39.102090 -84.523960         0.055   \n",
              "3 -81.537840  41.062170 -81.535470         0.123   \n",
              "4 -84.492792  39.170476 -84.501798         0.500   \n",
              "\n",
              "                                         Description  ...  Roundabout Station  \\\n",
              "0  Between Sawmill Rd/Exit 20 and OH-315/Olentang...  ...       False   False   \n",
              "1                 At OH-4/OH-235/Exit 41 - Accident.  ...       False   False   \n",
              "2                   At I-71/US-50/Exit 1 - Accident.  ...       False   False   \n",
              "3                    At Dart Ave/Exit 21 - Accident.  ...       False   False   \n",
              "4                 At Mitchell Ave/Exit 6 - Accident.  ...       False   False   \n",
              "\n",
              "    Stop Traffic_Calming Traffic_Signal Turning_Loop Sunrise_Sunset  \\\n",
              "0  False           False          False        False          Night   \n",
              "1  False           False          False        False          Night   \n",
              "2  False           False          False        False          Night   \n",
              "3  False           False          False        False          Night   \n",
              "4  False           False          False        False            Day   \n",
              "\n",
              "  Civil_Twilight Nautical_Twilight Astronomical_Twilight  \n",
              "0          Night             Night                 Night  \n",
              "1          Night             Night                 Night  \n",
              "2          Night             Night                   Day  \n",
              "3          Night               Day                   Day  \n",
              "4            Day               Day                   Day  \n",
              "\n",
              "[5 rows x 47 columns]"
            ],
            "text/html": [
              "\n",
              "  <div id=\"df-35ba637b-0145-4741-9376-7793a4c7b2b5\">\n",
              "    <div class=\"colab-df-container\">\n",
              "      <div>\n",
              "<style scoped>\n",
              "    .dataframe tbody tr th:only-of-type {\n",
              "        vertical-align: middle;\n",
              "    }\n",
              "\n",
              "    .dataframe tbody tr th {\n",
              "        vertical-align: top;\n",
              "    }\n",
              "\n",
              "    .dataframe thead th {\n",
              "        text-align: right;\n",
              "    }\n",
              "</style>\n",
              "<table border=\"1\" class=\"dataframe\">\n",
              "  <thead>\n",
              "    <tr style=\"text-align: right;\">\n",
              "      <th></th>\n",
              "      <th>ID</th>\n",
              "      <th>Severity</th>\n",
              "      <th>Start_Time</th>\n",
              "      <th>End_Time</th>\n",
              "      <th>Start_Lat</th>\n",
              "      <th>Start_Lng</th>\n",
              "      <th>End_Lat</th>\n",
              "      <th>End_Lng</th>\n",
              "      <th>Distance(mi)</th>\n",
              "      <th>Description</th>\n",
              "      <th>...</th>\n",
              "      <th>Roundabout</th>\n",
              "      <th>Station</th>\n",
              "      <th>Stop</th>\n",
              "      <th>Traffic_Calming</th>\n",
              "      <th>Traffic_Signal</th>\n",
              "      <th>Turning_Loop</th>\n",
              "      <th>Sunrise_Sunset</th>\n",
              "      <th>Civil_Twilight</th>\n",
              "      <th>Nautical_Twilight</th>\n",
              "      <th>Astronomical_Twilight</th>\n",
              "    </tr>\n",
              "  </thead>\n",
              "  <tbody>\n",
              "    <tr>\n",
              "      <th>0</th>\n",
              "      <td>A-1</td>\n",
              "      <td>3</td>\n",
              "      <td>2016-02-08 00:37:08</td>\n",
              "      <td>2016-02-08 06:37:08</td>\n",
              "      <td>40.108910</td>\n",
              "      <td>-83.092860</td>\n",
              "      <td>40.112060</td>\n",
              "      <td>-83.031870</td>\n",
              "      <td>3.230</td>\n",
              "      <td>Between Sawmill Rd/Exit 20 and OH-315/Olentang...</td>\n",
              "      <td>...</td>\n",
              "      <td>False</td>\n",
              "      <td>False</td>\n",
              "      <td>False</td>\n",
              "      <td>False</td>\n",
              "      <td>False</td>\n",
              "      <td>False</td>\n",
              "      <td>Night</td>\n",
              "      <td>Night</td>\n",
              "      <td>Night</td>\n",
              "      <td>Night</td>\n",
              "    </tr>\n",
              "    <tr>\n",
              "      <th>1</th>\n",
              "      <td>A-2</td>\n",
              "      <td>2</td>\n",
              "      <td>2016-02-08 05:56:20</td>\n",
              "      <td>2016-02-08 11:56:20</td>\n",
              "      <td>39.865420</td>\n",
              "      <td>-84.062800</td>\n",
              "      <td>39.865010</td>\n",
              "      <td>-84.048730</td>\n",
              "      <td>0.747</td>\n",
              "      <td>At OH-4/OH-235/Exit 41 - Accident.</td>\n",
              "      <td>...</td>\n",
              "      <td>False</td>\n",
              "      <td>False</td>\n",
              "      <td>False</td>\n",
              "      <td>False</td>\n",
              "      <td>False</td>\n",
              "      <td>False</td>\n",
              "      <td>Night</td>\n",
              "      <td>Night</td>\n",
              "      <td>Night</td>\n",
              "      <td>Night</td>\n",
              "    </tr>\n",
              "    <tr>\n",
              "      <th>2</th>\n",
              "      <td>A-3</td>\n",
              "      <td>2</td>\n",
              "      <td>2016-02-08 06:15:39</td>\n",
              "      <td>2016-02-08 12:15:39</td>\n",
              "      <td>39.102660</td>\n",
              "      <td>-84.524680</td>\n",
              "      <td>39.102090</td>\n",
              "      <td>-84.523960</td>\n",
              "      <td>0.055</td>\n",
              "      <td>At I-71/US-50/Exit 1 - Accident.</td>\n",
              "      <td>...</td>\n",
              "      <td>False</td>\n",
              "      <td>False</td>\n",
              "      <td>False</td>\n",
              "      <td>False</td>\n",
              "      <td>False</td>\n",
              "      <td>False</td>\n",
              "      <td>Night</td>\n",
              "      <td>Night</td>\n",
              "      <td>Night</td>\n",
              "      <td>Day</td>\n",
              "    </tr>\n",
              "    <tr>\n",
              "      <th>3</th>\n",
              "      <td>A-4</td>\n",
              "      <td>2</td>\n",
              "      <td>2016-02-08 06:51:45</td>\n",
              "      <td>2016-02-08 12:51:45</td>\n",
              "      <td>41.062130</td>\n",
              "      <td>-81.537840</td>\n",
              "      <td>41.062170</td>\n",
              "      <td>-81.535470</td>\n",
              "      <td>0.123</td>\n",
              "      <td>At Dart Ave/Exit 21 - Accident.</td>\n",
              "      <td>...</td>\n",
              "      <td>False</td>\n",
              "      <td>False</td>\n",
              "      <td>False</td>\n",
              "      <td>False</td>\n",
              "      <td>False</td>\n",
              "      <td>False</td>\n",
              "      <td>Night</td>\n",
              "      <td>Night</td>\n",
              "      <td>Day</td>\n",
              "      <td>Day</td>\n",
              "    </tr>\n",
              "    <tr>\n",
              "      <th>4</th>\n",
              "      <td>A-5</td>\n",
              "      <td>3</td>\n",
              "      <td>2016-02-08 07:53:43</td>\n",
              "      <td>2016-02-08 13:53:43</td>\n",
              "      <td>39.172393</td>\n",
              "      <td>-84.492792</td>\n",
              "      <td>39.170476</td>\n",
              "      <td>-84.501798</td>\n",
              "      <td>0.500</td>\n",
              "      <td>At Mitchell Ave/Exit 6 - Accident.</td>\n",
              "      <td>...</td>\n",
              "      <td>False</td>\n",
              "      <td>False</td>\n",
              "      <td>False</td>\n",
              "      <td>False</td>\n",
              "      <td>False</td>\n",
              "      <td>False</td>\n",
              "      <td>Day</td>\n",
              "      <td>Day</td>\n",
              "      <td>Day</td>\n",
              "      <td>Day</td>\n",
              "    </tr>\n",
              "  </tbody>\n",
              "</table>\n",
              "<p>5 rows × 47 columns</p>\n",
              "</div>\n",
              "      <button class=\"colab-df-convert\" onclick=\"convertToInteractive('df-35ba637b-0145-4741-9376-7793a4c7b2b5')\"\n",
              "              title=\"Convert this dataframe to an interactive table.\"\n",
              "              style=\"display:none;\">\n",
              "        \n",
              "  <svg xmlns=\"http://www.w3.org/2000/svg\" height=\"24px\"viewBox=\"0 0 24 24\"\n",
              "       width=\"24px\">\n",
              "    <path d=\"M0 0h24v24H0V0z\" fill=\"none\"/>\n",
              "    <path d=\"M18.56 5.44l.94 2.06.94-2.06 2.06-.94-2.06-.94-.94-2.06-.94 2.06-2.06.94zm-11 1L8.5 8.5l.94-2.06 2.06-.94-2.06-.94L8.5 2.5l-.94 2.06-2.06.94zm10 10l.94 2.06.94-2.06 2.06-.94-2.06-.94-.94-2.06-.94 2.06-2.06.94z\"/><path d=\"M17.41 7.96l-1.37-1.37c-.4-.4-.92-.59-1.43-.59-.52 0-1.04.2-1.43.59L10.3 9.45l-7.72 7.72c-.78.78-.78 2.05 0 2.83L4 21.41c.39.39.9.59 1.41.59.51 0 1.02-.2 1.41-.59l7.78-7.78 2.81-2.81c.8-.78.8-2.07 0-2.86zM5.41 20L4 18.59l7.72-7.72 1.47 1.35L5.41 20z\"/>\n",
              "  </svg>\n",
              "      </button>\n",
              "      \n",
              "  <style>\n",
              "    .colab-df-container {\n",
              "      display:flex;\n",
              "      flex-wrap:wrap;\n",
              "      gap: 12px;\n",
              "    }\n",
              "\n",
              "    .colab-df-convert {\n",
              "      background-color: #E8F0FE;\n",
              "      border: none;\n",
              "      border-radius: 50%;\n",
              "      cursor: pointer;\n",
              "      display: none;\n",
              "      fill: #1967D2;\n",
              "      height: 32px;\n",
              "      padding: 0 0 0 0;\n",
              "      width: 32px;\n",
              "    }\n",
              "\n",
              "    .colab-df-convert:hover {\n",
              "      background-color: #E2EBFA;\n",
              "      box-shadow: 0px 1px 2px rgba(60, 64, 67, 0.3), 0px 1px 3px 1px rgba(60, 64, 67, 0.15);\n",
              "      fill: #174EA6;\n",
              "    }\n",
              "\n",
              "    [theme=dark] .colab-df-convert {\n",
              "      background-color: #3B4455;\n",
              "      fill: #D2E3FC;\n",
              "    }\n",
              "\n",
              "    [theme=dark] .colab-df-convert:hover {\n",
              "      background-color: #434B5C;\n",
              "      box-shadow: 0px 1px 3px 1px rgba(0, 0, 0, 0.15);\n",
              "      filter: drop-shadow(0px 1px 2px rgba(0, 0, 0, 0.3));\n",
              "      fill: #FFFFFF;\n",
              "    }\n",
              "  </style>\n",
              "\n",
              "      <script>\n",
              "        const buttonEl =\n",
              "          document.querySelector('#df-35ba637b-0145-4741-9376-7793a4c7b2b5 button.colab-df-convert');\n",
              "        buttonEl.style.display =\n",
              "          google.colab.kernel.accessAllowed ? 'block' : 'none';\n",
              "\n",
              "        async function convertToInteractive(key) {\n",
              "          const element = document.querySelector('#df-35ba637b-0145-4741-9376-7793a4c7b2b5');\n",
              "          const dataTable =\n",
              "            await google.colab.kernel.invokeFunction('convertToInteractive',\n",
              "                                                     [key], {});\n",
              "          if (!dataTable) return;\n",
              "\n",
              "          const docLinkHtml = 'Like what you see? Visit the ' +\n",
              "            '<a target=\"_blank\" href=https://colab.research.google.com/notebooks/data_table.ipynb>data table notebook</a>'\n",
              "            + ' to learn more about interactive tables.';\n",
              "          element.innerHTML = '';\n",
              "          dataTable['output_type'] = 'display_data';\n",
              "          await google.colab.output.renderOutput(dataTable, element);\n",
              "          const docLink = document.createElement('div');\n",
              "          docLink.innerHTML = docLinkHtml;\n",
              "          element.appendChild(docLink);\n",
              "        }\n",
              "      </script>\n",
              "    </div>\n",
              "  </div>\n",
              "  "
            ]
          },
          "metadata": {},
          "execution_count": 44
        }
      ]
    },
    {
      "cell_type": "code",
      "source": [
        "cities_by_accident[:20].plot(kind = 'barh')"
      ],
      "metadata": {
        "colab": {
          "base_uri": "https://localhost:8080/",
          "height": 282
        },
        "id": "FeGRKhXwbdBf",
        "outputId": "ceb8fcab-5413-4db8-cdf5-b6b063a26fc4"
      },
      "execution_count": 28,
      "outputs": [
        {
          "output_type": "execute_result",
          "data": {
            "text/plain": [
              "<matplotlib.axes._subplots.AxesSubplot at 0x7f500d671d50>"
            ]
          },
          "metadata": {},
          "execution_count": 28
        },
        {
          "output_type": "display_data",
          "data": {
            "text/plain": [
              "<Figure size 432x288 with 1 Axes>"
            ],
            "image/png": "[encoded data removed]"
          },
          "metadata": {}
        }
      ]
    },
    {
      "cell_type": "code",
      "source": [
        "import seaborn as sns"
      ],
      "metadata": {
        "id": "bWbZbAY-bc6U"
      },
      "execution_count": 67,
      "outputs": []
    },
    {
      "cell_type": "code",
      "source": [
        "sns.set_style(\"darkgrid\")"
      ],
      "metadata": {
        "id": "uAaEKwFMbc0L"
      },
      "execution_count": 15,
      "outputs": []
    },
    {
      "cell_type": "code",
      "source": [
        "sns.distplot(cities_by_accident)"
      ],
      "metadata": {
        "colab": {
          "base_uri": "https://localhost:8080/",
          "height": 351
        },
        "id": "Hkj3HiAFbcuh",
        "outputId": "cda3e3fb-2d29-4813-b7b2-8f811777b105"
      },
      "execution_count": null,
      "outputs": [
        {
          "output_type": "stream",
          "name": "stderr",
          "text": [
            "/usr/local/lib/python3.7/dist-packages/seaborn/distributions.py:2619: FutureWarning: `distplot` is a deprecated function and will be removed in a future version. Please adapt your code to use either `displot` (a figure-level function with similar flexibility) or `histplot` (an axes-level function for histograms).\n",
            "  warnings.warn(msg, FutureWarning)\n"
          ]
        },
        {
          "output_type": "execute_result",
          "data": {
            "text/plain": [
              "<matplotlib.axes._subplots.AxesSubplot at 0x7fa869a041d0>"
            ]
          },
          "metadata": {},
          "execution_count": 51
        },
        {
          "output_type": "display_data",
          "data": {
            "text/plain": [
              "<Figure size 432x288 with 1 Axes>"
            ],
            "image/png": "[encoded data removed]"
          },
          "metadata": {}
        }
      ]
    },
    {
      "cell_type": "code",
      "source": [
        "high_accident_cities = cities_by_accident[cities_by_accident>=1000]\n",
        "low_accident_cities = cities_by_accident[cities_by_accident<1000]"
      ],
      "metadata": {
        "id": "gk-JJ-i5fb3c"
      },
      "execution_count": 30,
      "outputs": []
    },
    {
      "cell_type": "code",
      "source": [
        "len(high_accident_cities)"
      ],
      "metadata": {
        "colab": {
          "base_uri": "https://localhost:8080/"
        },
        "id": "oCuwx64yfbu7",
        "outputId": "dbb6f84d-bc3c-4913-98dd-94843923ed04"
      },
      "execution_count": 31,
      "outputs": [
        {
          "output_type": "execute_result",
          "data": {
            "text/plain": [
              "496"
            ]
          },
          "metadata": {},
          "execution_count": 31
        }
      ]
    },
    {
      "cell_type": "code",
      "source": [
        "#percentage of higest accident happen in city\n",
        "len(high_accident_cities) /len(df.City) * 100"
      ],
      "metadata": {
        "colab": {
          "base_uri": "https://localhost:8080/"
        },
        "id": "M4FtAY1Rfbmy",
        "outputId": "eef87066-c8dc-4bc8-8a25-1682cc953aee"
      },
      "execution_count": 33,
      "outputs": [
        {
          "output_type": "execute_result",
          "data": {
            "text/plain": [
              "0.01743199938706841"
            ]
          },
          "metadata": {},
          "execution_count": 33
        }
      ]
    },
    {
      "cell_type": "code",
      "source": [
        "sns.histplot(high_accident_cities ,log_scale = True )"
      ],
      "metadata": {
        "colab": {
          "base_uri": "https://localhost:8080/",
          "height": 300
        },
        "id": "NG3JY1EYfbgn",
        "outputId": "8bcc826e-c6a2-4c34-c41a-614f3704bbd1"
      },
      "execution_count": 35,
      "outputs": [
        {
          "output_type": "execute_result",
          "data": {
            "text/plain": [
              "<matplotlib.axes._subplots.AxesSubplot at 0x7f500d17ebd0>"
            ]
          },
          "metadata": {},
          "execution_count": 35
        },
        {
          "output_type": "display_data",
          "data": {
            "text/plain": [
              "<Figure size 432x288 with 1 Axes>"
            ],
            "image/png": "[encoded data removed]"
          },
          "metadata": {}
        }
      ]
    },
    {
      "cell_type": "code",
      "source": [
        "\n",
        "sns.distplot(low_accident_cities)"
      ],
      "metadata": {
        "colab": {
          "base_uri": "https://localhost:8080/",
          "height": 351
        },
        "id": "CGDxRy1-fbLM",
        "outputId": "ff9f6bc9-a8da-4bd2-b10e-efa99a179ace"
      },
      "execution_count": 36,
      "outputs": [
        {
          "output_type": "stream",
          "name": "stderr",
          "text": [
            "/usr/local/lib/python3.7/dist-packages/seaborn/distributions.py:2619: FutureWarning: `distplot` is a deprecated function and will be removed in a future version. Please adapt your code to use either `displot` (a figure-level function with similar flexibility) or `histplot` (an axes-level function for histograms).\n",
            "  warnings.warn(msg, FutureWarning)\n"
          ]
        },
        {
          "output_type": "execute_result",
          "data": {
            "text/plain": [
              "<matplotlib.axes._subplots.AxesSubplot at 0x7f500ce8b810>"
            ]
          },
          "metadata": {},
          "execution_count": 36
        },
        {
          "output_type": "display_data",
          "data": {
            "text/plain": [
              "<Figure size 432x288 with 1 Axes>"
            ],
            "image/png": "[encoded data removed]"
          },
          "metadata": {}
        }
      ]
    },
    {
      "cell_type": "code",
      "source": [
        "sns.histplot(cities_by_accident ,log_scale = True , )"
      ],
      "metadata": {
        "colab": {
          "base_uri": "https://localhost:8080/",
          "height": 300
        },
        "id": "SR7jonxzbcZE",
        "outputId": "4a99f16a-1fcf-4280-e560-05003c51f5ce"
      },
      "execution_count": 37,
      "outputs": [
        {
          "output_type": "execute_result",
          "data": {
            "text/plain": [
              "<matplotlib.axes._subplots.AxesSubplot at 0x7f500cdf0090>"
            ]
          },
          "metadata": {},
          "execution_count": 37
        },
        {
          "output_type": "display_data",
          "data": {
            "text/plain": [
              "<Figure size 432x288 with 1 Axes>"
            ],
            "image/png": "[encoded data removed]"
          },
          "metadata": {}
        }
      ]
    },
    {
      "cell_type": "code",
      "source": [
        "#cities of one accident\n",
        "cities_by_accident[cities_by_accident== 1]"
      ],
      "metadata": {
        "colab": {
          "base_uri": "https://localhost:8080/"
        },
        "id": "Oear6jBykxms",
        "outputId": "4b5916d6-6077-4fca-d5fb-11378d9accfc"
      },
      "execution_count": 38,
      "outputs": [
        {
          "output_type": "execute_result",
          "data": {
            "text/plain": [
              "Carney                          1\n",
              "Waverly Hall                    1\n",
              "Center Sandwich                 1\n",
              "Glen Flora                      1\n",
              "Sulphur Springs                 1\n",
              "                               ..\n",
              "Ridgedale                       1\n",
              "Sekiu                           1\n",
              "Wooldridge                      1\n",
              "Bullock                         1\n",
              "American Fork-Pleasant Grove    1\n",
              "Name: City, Length: 1110, dtype: int64"
            ]
          },
          "metadata": {},
          "execution_count": 38
        }
      ]
    },
    {
      "cell_type": "code",
      "source": [
        "###start time"
      ],
      "metadata": {
        "id": "6OZVL8cGkxVs"
      },
      "execution_count": null,
      "outputs": []
    },
    {
      "cell_type": "code",
      "source": [
        "df.Start_Time"
      ],
      "metadata": {
        "colab": {
          "base_uri": "https://localhost:8080/"
        },
        "id": "knDa6nU9kxHu",
        "outputId": "9d2a2798-2983-444d-94a6-05f7240250b0"
      },
      "execution_count": 39,
      "outputs": [
        {
          "output_type": "execute_result",
          "data": {
            "text/plain": [
              "0          2016-02-08 00:37:08\n",
              "1          2016-02-08 05:56:20\n",
              "2          2016-02-08 06:15:39\n",
              "3          2016-02-08 06:51:45\n",
              "4          2016-02-08 07:53:43\n",
              "                  ...         \n",
              "2845337    2019-08-23 18:03:25\n",
              "2845338    2019-08-23 19:11:30\n",
              "2845339    2019-08-23 19:00:21\n",
              "2845340    2019-08-23 19:00:21\n",
              "2845341    2019-08-23 18:52:06\n",
              "Name: Start_Time, Length: 2845342, dtype: object"
            ]
          },
          "metadata": {},
          "execution_count": 39
        }
      ]
    },
    {
      "cell_type": "code",
      "source": [
        "df.Start_Time[0]"
      ],
      "metadata": {
        "colab": {
          "base_uri": "https://localhost:8080/",
          "height": 36
        },
        "id": "F4GqR4uVkw2R",
        "outputId": "237720cb-0d5d-41e3-f3c9-ff3f93db9dac"
      },
      "execution_count": null,
      "outputs": [
        {
          "output_type": "execute_result",
          "data": {
            "text/plain": [
              "'2016-02-08 00:37:08'"
            ],
            "application/vnd.google.colaboratory.intrinsic+json": {
              "type": "string"
            }
          },
          "metadata": {},
          "execution_count": 71
        }
      ]
    },
    {
      "cell_type": "code",
      "source": [
        "#change object type to date and time \n",
        "pd.to_datetime(df.Start_Time)\n",
        "df.Start_Time = pd.to_datetime(df.Start_Time)"
      ],
      "metadata": {
        "id": "he-BuGBOkwlo"
      },
      "execution_count": 40,
      "outputs": []
    },
    {
      "cell_type": "code",
      "source": [
        "df.Start_Time[0]"
      ],
      "metadata": {
        "colab": {
          "base_uri": "https://localhost:8080/",
          "height": 36
        },
        "id": "noF6eLIMkwR5",
        "outputId": "07f654b9-b5f8-4923-924b-bba76318db28"
      },
      "execution_count": null,
      "outputs": [
        {
          "output_type": "execute_result",
          "data": {
            "text/plain": [
              "'2016-02-08 00:37:08'"
            ],
            "application/vnd.google.colaboratory.intrinsic+json": {
              "type": "string"
            }
          },
          "metadata": {},
          "execution_count": 73
        }
      ]
    },
    {
      "cell_type": "code",
      "source": [
        "#percentage of the accident by hour of the a day.\n",
        "sns.distplot(df.Start_Time.dt.hour,bins=24,kde=False,norm_hist=True)"
      ],
      "metadata": {
        "colab": {
          "base_uri": "https://localhost:8080/",
          "height": 352
        },
        "id": "L5PSfgcKyM2_",
        "outputId": "d3c9f561-867d-43c3-eb82-602a3edb92c4"
      },
      "execution_count": 41,
      "outputs": [
        {
          "output_type": "stream",
          "name": "stderr",
          "text": [
            "/usr/local/lib/python3.7/dist-packages/seaborn/distributions.py:2619: FutureWarning: `distplot` is a deprecated function and will be removed in a future version. Please adapt your code to use either `displot` (a figure-level function with similar flexibility) or `histplot` (an axes-level function for histograms).\n",
            "  warnings.warn(msg, FutureWarning)\n"
          ]
        },
        {
          "output_type": "execute_result",
          "data": {
            "text/plain": [
              "<matplotlib.axes._subplots.AxesSubplot at 0x7f500a41d790>"
            ]
          },
          "metadata": {},
          "execution_count": 41
        },
        {
          "output_type": "display_data",
          "data": {
            "text/plain": [
              "<Figure size 432x288 with 1 Axes>"
            ],
            "image/png": "[encoded data removed]"
          },
          "metadata": {}
        }
      ]
    },
    {
      "cell_type": "markdown",
      "source": [
        "high percentage of accident occcurs in between 1.00 pm to 6.00 pm\n",
        "probaly people are return to home at that time with hurry and most of the traffic at the evening time."
      ],
      "metadata": {
        "id": "ieNlpmrd3-AE"
      }
    },
    {
      "cell_type": "code",
      "source": [
        "#percentage of accident happen by week days\n",
        "sns.distplot(df.Start_Time.dt.dayofweek,bins=7,kde=False,norm_hist=True)"
      ],
      "metadata": {
        "colab": {
          "base_uri": "https://localhost:8080/",
          "height": 297
        },
        "id": "nGubx8Lc4hsu",
        "outputId": "a41ffa6a-1bf7-4dbc-b939-1e03d487574b"
      },
      "execution_count": 42,
      "outputs": [
        {
          "output_type": "execute_result",
          "data": {
            "text/plain": [
              "<matplotlib.axes._subplots.AxesSubplot at 0x7f500a345f90>"
            ]
          },
          "metadata": {},
          "execution_count": 42
        },
        {
          "output_type": "display_data",
          "data": {
            "text/plain": [
              "<Figure size 432x288 with 1 Axes>"
            ],
            "image/png": "[encoded data removed]"
          },
          "metadata": {}
        }
      ]
    },
    {
      "cell_type": "markdown",
      "source": [
        "#is distrubution of accident by hour the same on weekends as on weekdays?"
      ],
      "metadata": {
        "id": "ehlzg0Ux6-Hv"
      }
    },
    {
      "cell_type": "code",
      "source": [
        "#how much accident happen sunday\n",
        "Sunday_start_date = df.Start_Time[df.Start_Time.dt.dayofweek == 6]"
      ],
      "metadata": {
        "id": "zNpyMVs3zc8E"
      },
      "execution_count": 43,
      "outputs": []
    },
    {
      "cell_type": "code",
      "source": [
        "#for sunday the accident percentage\n",
        "sns.distplot(Sunday_start_date.dt.hour,bins=24,kde=False,norm_hist=True)"
      ],
      "metadata": {
        "colab": {
          "base_uri": "https://localhost:8080/",
          "height": 297
        },
        "id": "hQH3TgwZ1WsF",
        "outputId": "03c4957e-0f8f-4c1d-a601-9769a1918021"
      },
      "execution_count": 44,
      "outputs": [
        {
          "output_type": "execute_result",
          "data": {
            "text/plain": [
              "<matplotlib.axes._subplots.AxesSubplot at 0x7f500a2c0290>"
            ]
          },
          "metadata": {},
          "execution_count": 44
        },
        {
          "output_type": "display_data",
          "data": {
            "text/plain": [
              "<Figure size 432x288 with 1 Axes>"
            ],
            "image/png": "[encoded data removed]"
          },
          "metadata": {}
        }
      ]
    },
    {
      "cell_type": "code",
      "source": [
        "#on monday the accident percentage\n",
        "Monday_start_date = df.Start_Time[df.Start_Time.dt.dayofweek == 5]\n",
        "sns.distplot(Monday_start_date.dt.hour,bins=24,kde=False,norm_hist=True)\n"
      ],
      "metadata": {
        "colab": {
          "base_uri": "https://localhost:8080/",
          "height": 297
        },
        "id": "-kxV0Ajf1Wia",
        "outputId": "89856acb-c54c-44e8-da44-c2b18ae7dc27"
      },
      "execution_count": 45,
      "outputs": [
        {
          "output_type": "execute_result",
          "data": {
            "text/plain": [
              "<matplotlib.axes._subplots.AxesSubplot at 0x7f500a278c50>"
            ]
          },
          "metadata": {},
          "execution_count": 45
        },
        {
          "output_type": "display_data",
          "data": {
            "text/plain": [
              "<Figure size 432x288 with 1 Axes>"
            ],
            "image/png": "[encoded data removed]"
          },
          "metadata": {}
        }
      ]
    },
    {
      "cell_type": "markdown",
      "source": [
        "on sunday the peak accident occurs in afternoon in 3 to 7Pm"
      ],
      "metadata": {
        "id": "bs6SMtc8_gFC"
      }
    },
    {
      "cell_type": "code",
      "source": [
        "sns.distplot(df.Start_Time.dt.month,bins=12,kde=False,norm_hist=True)"
      ],
      "metadata": {
        "colab": {
          "base_uri": "https://localhost:8080/",
          "height": 297
        },
        "id": "E-ebD7iq1WVq",
        "outputId": "39eb0a15-80b1-4a51-b952-754370045b0c"
      },
      "execution_count": 46,
      "outputs": [
        {
          "output_type": "execute_result",
          "data": {
            "text/plain": [
              "<matplotlib.axes._subplots.AxesSubplot at 0x7f500a19f910>"
            ]
          },
          "metadata": {},
          "execution_count": 46
        },
        {
          "output_type": "display_data",
          "data": {
            "text/plain": [
              "<Figure size 432x288 with 1 Axes>"
            ],
            "image/png": "[encoded data removed]"
          },
          "metadata": {}
        }
      ]
    },
    {
      "cell_type": "markdown",
      "source": [
        "in month end there some more accident happen"
      ],
      "metadata": {
        "id": "Yg4Sn2_-Aum-"
      }
    },
    {
      "cell_type": "code",
      "source": [
        "sns.distplot(df.Start_Time.dt.year,bins=12,kde=False,norm_hist=True)"
      ],
      "metadata": {
        "id": "rEtEx0Bn1WPC",
        "colab": {
          "base_uri": "https://localhost:8080/",
          "height": 352
        },
        "outputId": "501ac5c3-a2e5-4e19-94ce-75fa3f18d301"
      },
      "execution_count": 47,
      "outputs": [
        {
          "output_type": "stream",
          "name": "stderr",
          "text": [
            "/usr/local/lib/python3.7/dist-packages/seaborn/distributions.py:2619: FutureWarning: `distplot` is a deprecated function and will be removed in a future version. Please adapt your code to use either `displot` (a figure-level function with similar flexibility) or `histplot` (an axes-level function for histograms).\n",
            "  warnings.warn(msg, FutureWarning)\n"
          ]
        },
        {
          "output_type": "execute_result",
          "data": {
            "text/plain": [
              "<matplotlib.axes._subplots.AxesSubplot at 0x7f500a13d8d0>"
            ]
          },
          "metadata": {},
          "execution_count": 47
        },
        {
          "output_type": "display_data",
          "data": {
            "text/plain": [
              "<Figure size 432x288 with 1 Axes>"
            ],
            "image/png": "[encoded data removed]"
          },
          "metadata": {}
        }
      ]
    },
    {
      "cell_type": "code",
      "source": [
        "df_2019 = df[df.Start_Time.dt.year ==2019]"
      ],
      "metadata": {
        "id": "oL-MeVCW1WHO"
      },
      "execution_count": 49,
      "outputs": []
    },
    {
      "cell_type": "code",
      "source": [
        "##source data iis not avilable here\n"
      ],
      "metadata": {
        "id": "64EUTlx2j-yb"
      },
      "execution_count": 54,
      "outputs": []
    },
    {
      "cell_type": "code",
      "source": [],
      "metadata": {
        "id": "l1Hnbh0WkT76"
      },
      "execution_count": 54,
      "outputs": []
    },
    {
      "cell_type": "code",
      "source": [
        "sns.distplot(df_2019.Start_Time.dt.year,bins=12,kde=False,norm_hist=True)"
      ],
      "metadata": {
        "id": "-wCHiwjr1V9t",
        "colab": {
          "base_uri": "https://localhost:8080/",
          "height": 352
        },
        "outputId": "638f4639-cfbf-48be-ef60-3bf4669b4c9c"
      },
      "execution_count": 51,
      "outputs": [
        {
          "output_type": "stream",
          "name": "stderr",
          "text": [
            "/usr/local/lib/python3.7/dist-packages/seaborn/distributions.py:2619: FutureWarning: `distplot` is a deprecated function and will be removed in a future version. Please adapt your code to use either `displot` (a figure-level function with similar flexibility) or `histplot` (an axes-level function for histograms).\n",
            "  warnings.warn(msg, FutureWarning)\n"
          ]
        },
        {
          "output_type": "execute_result",
          "data": {
            "text/plain": [
              "<matplotlib.axes._subplots.AxesSubplot at 0x7f500a191dd0>"
            ]
          },
          "metadata": {},
          "execution_count": 51
        },
        {
          "output_type": "display_data",
          "data": {
            "text/plain": [
              "<Figure size 432x288 with 1 Axes>"
            ],
            "image/png": "[encoded data removed]"
          },
          "metadata": {}
        }
      ]
    },
    {
      "cell_type": "code",
      "source": [
        "### sart lattitude and longitude\n"
      ],
      "metadata": {
        "id": "e74r7enk1V0m"
      },
      "execution_count": 54,
      "outputs": []
    },
    {
      "cell_type": "code",
      "source": [
        "df"
      ],
      "metadata": {
        "id": "_yBX4G451Vp9",
        "colab": {
          "base_uri": "https://localhost:8080/",
          "height": 939
        },
        "outputId": "9a9620ca-7c46-4d55-f172-22b9db4ef38b"
      },
      "execution_count": 56,
      "outputs": [
        {
          "output_type": "execute_result",
          "data": {
            "text/plain": [
              "                ID  Severity          Start_Time             End_Time  \\\n",
              "0              A-1         3 2016-02-08 00:37:08  2016-02-08 06:37:08   \n",
              "1              A-2         2 2016-02-08 05:56:20  2016-02-08 11:56:20   \n",
              "2              A-3         2 2016-02-08 06:15:39  2016-02-08 12:15:39   \n",
              "3              A-4         2 2016-02-08 06:51:45  2016-02-08 12:51:45   \n",
              "4              A-5         3 2016-02-08 07:53:43  2016-02-08 13:53:43   \n",
              "...            ...       ...                 ...                  ...   \n",
              "2845337  A-2845338         2 2019-08-23 18:03:25  2019-08-23 18:32:01   \n",
              "2845338  A-2845339         2 2019-08-23 19:11:30  2019-08-23 19:38:23   \n",
              "2845339  A-2845340         2 2019-08-23 19:00:21  2019-08-23 19:28:49   \n",
              "2845340  A-2845341         2 2019-08-23 19:00:21  2019-08-23 19:29:42   \n",
              "2845341  A-2845342         2 2019-08-23 18:52:06  2019-08-23 19:21:31   \n",
              "\n",
              "         Start_Lat   Start_Lng    End_Lat     End_Lng  Distance(mi)  \\\n",
              "0        40.108910  -83.092860  40.112060  -83.031870         3.230   \n",
              "1        39.865420  -84.062800  39.865010  -84.048730         0.747   \n",
              "2        39.102660  -84.524680  39.102090  -84.523960         0.055   \n",
              "3        41.062130  -81.537840  41.062170  -81.535470         0.123   \n",
              "4        39.172393  -84.492792  39.170476  -84.501798         0.500   \n",
              "...            ...         ...        ...         ...           ...   \n",
              "2845337  34.002480 -117.379360  33.998880 -117.370940         0.543   \n",
              "2845338  32.766960 -117.148060  32.765550 -117.153630         0.338   \n",
              "2845339  33.775450 -117.847790  33.777400 -117.857270         0.561   \n",
              "2845340  33.992460 -118.403020  33.983110 -118.395650         0.772   \n",
              "2845341  34.133930 -117.230920  34.137360 -117.239340         0.537   \n",
              "\n",
              "                                               Description  ...  Roundabout  \\\n",
              "0        Between Sawmill Rd/Exit 20 and OH-315/Olentang...  ...       False   \n",
              "1                       At OH-4/OH-235/Exit 41 - Accident.  ...       False   \n",
              "2                         At I-71/US-50/Exit 1 - Accident.  ...       False   \n",
              "3                          At Dart Ave/Exit 21 - Accident.  ...       False   \n",
              "4                       At Mitchell Ave/Exit 6 - Accident.  ...       False   \n",
              "...                                                    ...  ...         ...   \n",
              "2845337                           At Market St - Accident.  ...       False   \n",
              "2845338    At Camino Del Rio/Mission Center Rd - Accident.  ...       False   \n",
              "2845339  At Glassell St/Grand Ave - Accident. in the ri...  ...       False   \n",
              "2845340     At CA-90/Marina Fwy/Jefferson Blvd - Accident.  ...       False   \n",
              "2845341              At Highland Ave/Arden Ave - Accident.  ...       False   \n",
              "\n",
              "        Station   Stop Traffic_Calming Traffic_Signal Turning_Loop  \\\n",
              "0         False  False           False          False        False   \n",
              "1         False  False           False          False        False   \n",
              "2         False  False           False          False        False   \n",
              "3         False  False           False          False        False   \n",
              "4         False  False           False          False        False   \n",
              "...         ...    ...             ...            ...          ...   \n",
              "2845337   False  False           False          False        False   \n",
              "2845338   False  False           False          False        False   \n",
              "2845339   False  False           False          False        False   \n",
              "2845340   False  False           False          False        False   \n",
              "2845341   False  False           False          False        False   \n",
              "\n",
              "        Sunrise_Sunset Civil_Twilight Nautical_Twilight Astronomical_Twilight  \n",
              "0                Night          Night             Night                 Night  \n",
              "1                Night          Night             Night                 Night  \n",
              "2                Night          Night             Night                   Day  \n",
              "3                Night          Night               Day                   Day  \n",
              "4                  Day            Day               Day                   Day  \n",
              "...                ...            ...               ...                   ...  \n",
              "2845337            Day            Day               Day                   Day  \n",
              "2845338            Day            Day               Day                   Day  \n",
              "2845339            Day            Day               Day                   Day  \n",
              "2845340            Day            Day               Day                   Day  \n",
              "2845341            Day            Day               Day                   Day  \n",
              "\n",
              "[2845342 rows x 47 columns]"
            ],
            "text/html": [
              "\n",
              "  <div id=\"df-c05009df-73dd-40d1-9567-c6cc05f38e25\">\n",
              "    <div class=\"colab-df-container\">\n",
              "      <div>\n",
              "<style scoped>\n",
              "    .dataframe tbody tr th:only-of-type {\n",
              "        vertical-align: middle;\n",
              "    }\n",
              "\n",
              "    .dataframe tbody tr th {\n",
              "        vertical-align: top;\n",
              "    }\n",
              "\n",
              "    .dataframe thead th {\n",
              "        text-align: right;\n",
              "    }\n",
              "</style>\n",
              "<table border=\"1\" class=\"dataframe\">\n",
              "  <thead>\n",
              "    <tr style=\"text-align: right;\">\n",
              "      <th></th>\n",
              "      <th>ID</th>\n",
              "      <th>Severity</th>\n",
              "      <th>Start_Time</th>\n",
              "      <th>End_Time</th>\n",
              "      <th>Start_Lat</th>\n",
              "      <th>Start_Lng</th>\n",
              "      <th>End_Lat</th>\n",
              "      <th>End_Lng</th>\n",
              "      <th>Distance(mi)</th>\n",
              "      <th>Description</th>\n",
              "      <th>...</th>\n",
              "      <th>Roundabout</th>\n",
              "      <th>Station</th>\n",
              "      <th>Stop</th>\n",
              "      <th>Traffic_Calming</th>\n",
              "      <th>Traffic_Signal</th>\n",
              "      <th>Turning_Loop</th>\n",
              "      <th>Sunrise_Sunset</th>\n",
              "      <th>Civil_Twilight</th>\n",
              "      <th>Nautical_Twilight</th>\n",
              "      <th>Astronomical_Twilight</th>\n",
              "    </tr>\n",
              "  </thead>\n",
              "  <tbody>\n",
              "    <tr>\n",
              "      <th>0</th>\n",
              "      <td>A-1</td>\n",
              "      <td>3</td>\n",
              "      <td>2016-02-08 00:37:08</td>\n",
              "      <td>2016-02-08 06:37:08</td>\n",
              "      <td>40.108910</td>\n",
              "      <td>-83.092860</td>\n",
              "      <td>40.112060</td>\n",
              "      <td>-83.031870</td>\n",
              "      <td>3.230</td>\n",
              "      <td>Between Sawmill Rd/Exit 20 and OH-315/Olentang...</td>\n",
              "      <td>...</td>\n",
              "      <td>False</td>\n",
              "      <td>False</td>\n",
              "      <td>False</td>\n",
              "      <td>False</td>\n",
              "      <td>False</td>\n",
              "      <td>False</td>\n",
              "      <td>Night</td>\n",
              "      <td>Night</td>\n",
              "      <td>Night</td>\n",
              "      <td>Night</td>\n",
              "    </tr>\n",
              "    <tr>\n",
              "      <th>1</th>\n",
              "      <td>A-2</td>\n",
              "      <td>2</td>\n",
              "      <td>2016-02-08 05:56:20</td>\n",
              "      <td>2016-02-08 11:56:20</td>\n",
              "      <td>39.865420</td>\n",
              "      <td>-84.062800</td>\n",
              "      <td>39.865010</td>\n",
              "      <td>-84.048730</td>\n",
              "      <td>0.747</td>\n",
              "      <td>At OH-4/OH-235/Exit 41 - Accident.</td>\n",
              "      <td>...</td>\n",
              "      <td>False</td>\n",
              "      <td>False</td>\n",
              "      <td>False</td>\n",
              "      <td>False</td>\n",
              "      <td>False</td>\n",
              "      <td>False</td>\n",
              "      <td>Night</td>\n",
              "      <td>Night</td>\n",
              "      <td>Night</td>\n",
              "      <td>Night</td>\n",
              "    </tr>\n",
              "    <tr>\n",
              "      <th>2</th>\n",
              "      <td>A-3</td>\n",
              "      <td>2</td>\n",
              "      <td>2016-02-08 06:15:39</td>\n",
              "      <td>2016-02-08 12:15:39</td>\n",
              "      <td>39.102660</td>\n",
              "      <td>-84.524680</td>\n",
              "      <td>39.102090</td>\n",
              "      <td>-84.523960</td>\n",
              "      <td>0.055</td>\n",
              "      <td>At I-71/US-50/Exit 1 - Accident.</td>\n",
              "      <td>...</td>\n",
              "      <td>False</td>\n",
              "      <td>False</td>\n",
              "      <td>False</td>\n",
              "      <td>False</td>\n",
              "      <td>False</td>\n",
              "      <td>False</td>\n",
              "      <td>Night</td>\n",
              "      <td>Night</td>\n",
              "      <td>Night</td>\n",
              "      <td>Day</td>\n",
              "    </tr>\n",
              "    <tr>\n",
              "      <th>3</th>\n",
              "      <td>A-4</td>\n",
              "      <td>2</td>\n",
              "      <td>2016-02-08 06:51:45</td>\n",
              "      <td>2016-02-08 12:51:45</td>\n",
              "      <td>41.062130</td>\n",
              "      <td>-81.537840</td>\n",
              "      <td>41.062170</td>\n",
              "      <td>-81.535470</td>\n",
              "      <td>0.123</td>\n",
              "      <td>At Dart Ave/Exit 21 - Accident.</td>\n",
              "      <td>...</td>\n",
              "      <td>False</td>\n",
              "      <td>False</td>\n",
              "      <td>False</td>\n",
              "      <td>False</td>\n",
              "      <td>False</td>\n",
              "      <td>False</td>\n",
              "      <td>Night</td>\n",
              "      <td>Night</td>\n",
              "      <td>Day</td>\n",
              "      <td>Day</td>\n",
              "    </tr>\n",
              "    <tr>\n",
              "      <th>4</th>\n",
              "      <td>A-5</td>\n",
              "      <td>3</td>\n",
              "      <td>2016-02-08 07:53:43</td>\n",
              "      <td>2016-02-08 13:53:43</td>\n",
              "      <td>39.172393</td>\n",
              "      <td>-84.492792</td>\n",
              "      <td>39.170476</td>\n",
              "      <td>-84.501798</td>\n",
              "      <td>0.500</td>\n",
              "      <td>At Mitchell Ave/Exit 6 - Accident.</td>\n",
              "      <td>...</td>\n",
              "      <td>False</td>\n",
              "      <td>False</td>\n",
              "      <td>False</td>\n",
              "      <td>False</td>\n",
              "      <td>False</td>\n",
              "      <td>False</td>\n",
              "      <td>Day</td>\n",
              "      <td>Day</td>\n",
              "      <td>Day</td>\n",
              "      <td>Day</td>\n",
              "    </tr>\n",
              "    <tr>\n",
              "      <th>...</th>\n",
              "      <td>...</td>\n",
              "      <td>...</td>\n",
              "      <td>...</td>\n",
              "      <td>...</td>\n",
              "      <td>...</td>\n",
              "      <td>...</td>\n",
              "      <td>...</td>\n",
              "      <td>...</td>\n",
              "      <td>...</td>\n",
              "      <td>...</td>\n",
              "      <td>...</td>\n",
              "      <td>...</td>\n",
              "      <td>...</td>\n",
              "      <td>...</td>\n",
              "      <td>...</td>\n",
              "      <td>...</td>\n",
              "      <td>...</td>\n",
              "      <td>...</td>\n",
              "      <td>...</td>\n",
              "      <td>...</td>\n",
              "      <td>...</td>\n",
              "    </tr>\n",
              "    <tr>\n",
              "      <th>2845337</th>\n",
              "      <td>A-2845338</td>\n",
              "      <td>2</td>\n",
              "      <td>2019-08-23 18:03:25</td>\n",
              "      <td>2019-08-23 18:32:01</td>\n",
              "      <td>34.002480</td>\n",
              "      <td>-117.379360</td>\n",
              "      <td>33.998880</td>\n",
              "      <td>-117.370940</td>\n",
              "      <td>0.543</td>\n",
              "      <td>At Market St - Accident.</td>\n",
              "      <td>...</td>\n",
              "      <td>False</td>\n",
              "      <td>False</td>\n",
              "      <td>False</td>\n",
              "      <td>False</td>\n",
              "      <td>False</td>\n",
              "      <td>False</td>\n",
              "      <td>Day</td>\n",
              "      <td>Day</td>\n",
              "      <td>Day</td>\n",
              "      <td>Day</td>\n",
              "    </tr>\n",
              "    <tr>\n",
              "      <th>2845338</th>\n",
              "      <td>A-2845339</td>\n",
              "      <td>2</td>\n",
              "      <td>2019-08-23 19:11:30</td>\n",
              "      <td>2019-08-23 19:38:23</td>\n",
              "      <td>32.766960</td>\n",
              "      <td>-117.148060</td>\n",
              "      <td>32.765550</td>\n",
              "      <td>-117.153630</td>\n",
              "      <td>0.338</td>\n",
              "      <td>At Camino Del Rio/Mission Center Rd - Accident.</td>\n",
              "      <td>...</td>\n",
              "      <td>False</td>\n",
              "      <td>False</td>\n",
              "      <td>False</td>\n",
              "      <td>False</td>\n",
              "      <td>False</td>\n",
              "      <td>False</td>\n",
              "      <td>Day</td>\n",
              "      <td>Day</td>\n",
              "      <td>Day</td>\n",
              "      <td>Day</td>\n",
              "    </tr>\n",
              "    <tr>\n",
              "      <th>2845339</th>\n",
              "      <td>A-2845340</td>\n",
              "      <td>2</td>\n",
              "      <td>2019-08-23 19:00:21</td>\n",
              "      <td>2019-08-23 19:28:49</td>\n",
              "      <td>33.775450</td>\n",
              "      <td>-117.847790</td>\n",
              "      <td>33.777400</td>\n",
              "      <td>-117.857270</td>\n",
              "      <td>0.561</td>\n",
              "      <td>At Glassell St/Grand Ave - Accident. in the ri...</td>\n",
              "      <td>...</td>\n",
              "      <td>False</td>\n",
              "      <td>False</td>\n",
              "      <td>False</td>\n",
              "      <td>False</td>\n",
              "      <td>False</td>\n",
              "      <td>False</td>\n",
              "      <td>Day</td>\n",
              "      <td>Day</td>\n",
              "      <td>Day</td>\n",
              "      <td>Day</td>\n",
              "    </tr>\n",
              "    <tr>\n",
              "      <th>2845340</th>\n",
              "      <td>A-2845341</td>\n",
              "      <td>2</td>\n",
              "      <td>2019-08-23 19:00:21</td>\n",
              "      <td>2019-08-23 19:29:42</td>\n",
              "      <td>33.992460</td>\n",
              "      <td>-118.403020</td>\n",
              "      <td>33.983110</td>\n",
              "      <td>-118.395650</td>\n",
              "      <td>0.772</td>\n",
              "      <td>At CA-90/Marina Fwy/Jefferson Blvd - Accident.</td>\n",
              "      <td>...</td>\n",
              "      <td>False</td>\n",
              "      <td>False</td>\n",
              "      <td>False</td>\n",
              "      <td>False</td>\n",
              "      <td>False</td>\n",
              "      <td>False</td>\n",
              "      <td>Day</td>\n",
              "      <td>Day</td>\n",
              "      <td>Day</td>\n",
              "      <td>Day</td>\n",
              "    </tr>\n",
              "    <tr>\n",
              "      <th>2845341</th>\n",
              "      <td>A-2845342</td>\n",
              "      <td>2</td>\n",
              "      <td>2019-08-23 18:52:06</td>\n",
              "      <td>2019-08-23 19:21:31</td>\n",
              "      <td>34.133930</td>\n",
              "      <td>-117.230920</td>\n",
              "      <td>34.137360</td>\n",
              "      <td>-117.239340</td>\n",
              "      <td>0.537</td>\n",
              "      <td>At Highland Ave/Arden Ave - Accident.</td>\n",
              "      <td>...</td>\n",
              "      <td>False</td>\n",
              "      <td>False</td>\n",
              "      <td>False</td>\n",
              "      <td>False</td>\n",
              "      <td>False</td>\n",
              "      <td>False</td>\n",
              "      <td>Day</td>\n",
              "      <td>Day</td>\n",
              "      <td>Day</td>\n",
              "      <td>Day</td>\n",
              "    </tr>\n",
              "  </tbody>\n",
              "</table>\n",
              "<p>2845342 rows × 47 columns</p>\n",
              "</div>\n",
              "      <button class=\"colab-df-convert\" onclick=\"convertToInteractive('df-c05009df-73dd-40d1-9567-c6cc05f38e25')\"\n",
              "              title=\"Convert this dataframe to an interactive table.\"\n",
              "              style=\"display:none;\">\n",
              "        \n",
              "  <svg xmlns=\"http://www.w3.org/2000/svg\" height=\"24px\"viewBox=\"0 0 24 24\"\n",
              "       width=\"24px\">\n",
              "    <path d=\"M0 0h24v24H0V0z\" fill=\"none\"/>\n",
              "    <path d=\"M18.56 5.44l.94 2.06.94-2.06 2.06-.94-2.06-.94-.94-2.06-.94 2.06-2.06.94zm-11 1L8.5 8.5l.94-2.06 2.06-.94-2.06-.94L8.5 2.5l-.94 2.06-2.06.94zm10 10l.94 2.06.94-2.06 2.06-.94-2.06-.94-.94-2.06-.94 2.06-2.06.94z\"/><path d=\"M17.41 7.96l-1.37-1.37c-.4-.4-.92-.59-1.43-.59-.52 0-1.04.2-1.43.59L10.3 9.45l-7.72 7.72c-.78.78-.78 2.05 0 2.83L4 21.41c.39.39.9.59 1.41.59.51 0 1.02-.2 1.41-.59l7.78-7.78 2.81-2.81c.8-.78.8-2.07 0-2.86zM5.41 20L4 18.59l7.72-7.72 1.47 1.35L5.41 20z\"/>\n",
              "  </svg>\n",
              "      </button>\n",
              "      \n",
              "  <style>\n",
              "    .colab-df-container {\n",
              "      display:flex;\n",
              "      flex-wrap:wrap;\n",
              "      gap: 12px;\n",
              "    }\n",
              "\n",
              "    .colab-df-convert {\n",
              "      background-color: #E8F0FE;\n",
              "      border: none;\n",
              "      border-radius: 50%;\n",
              "      cursor: pointer;\n",
              "      display: none;\n",
              "      fill: #1967D2;\n",
              "      height: 32px;\n",
              "      padding: 0 0 0 0;\n",
              "      width: 32px;\n",
              "    }\n",
              "\n",
              "    .colab-df-convert:hover {\n",
              "      background-color: #E2EBFA;\n",
              "      box-shadow: 0px 1px 2px rgba(60, 64, 67, 0.3), 0px 1px 3px 1px rgba(60, 64, 67, 0.15);\n",
              "      fill: #174EA6;\n",
              "    }\n",
              "\n",
              "    [theme=dark] .colab-df-convert {\n",
              "      background-color: #3B4455;\n",
              "      fill: #D2E3FC;\n",
              "    }\n",
              "\n",
              "    [theme=dark] .colab-df-convert:hover {\n",
              "      background-color: #434B5C;\n",
              "      box-shadow: 0px 1px 3px 1px rgba(0, 0, 0, 0.15);\n",
              "      filter: drop-shadow(0px 1px 2px rgba(0, 0, 0, 0.3));\n",
              "      fill: #FFFFFF;\n",
              "    }\n",
              "  </style>\n",
              "\n",
              "      <script>\n",
              "        const buttonEl =\n",
              "          document.querySelector('#df-c05009df-73dd-40d1-9567-c6cc05f38e25 button.colab-df-convert');\n",
              "        buttonEl.style.display =\n",
              "          google.colab.kernel.accessAllowed ? 'block' : 'none';\n",
              "\n",
              "        async function convertToInteractive(key) {\n",
              "          const element = document.querySelector('#df-c05009df-73dd-40d1-9567-c6cc05f38e25');\n",
              "          const dataTable =\n",
              "            await google.colab.kernel.invokeFunction('convertToInteractive',\n",
              "                                                     [key], {});\n",
              "          if (!dataTable) return;\n",
              "\n",
              "          const docLinkHtml = 'Like what you see? Visit the ' +\n",
              "            '<a target=\"_blank\" href=https://colab.research.google.com/notebooks/data_table.ipynb>data table notebook</a>'\n",
              "            + ' to learn more about interactive tables.';\n",
              "          element.innerHTML = '';\n",
              "          dataTable['output_type'] = 'display_data';\n",
              "          await google.colab.output.renderOutput(dataTable, element);\n",
              "          const docLink = document.createElement('div');\n",
              "          docLink.innerHTML = docLinkHtml;\n",
              "          element.appendChild(docLink);\n",
              "        }\n",
              "      </script>\n",
              "    </div>\n",
              "  </div>\n",
              "  "
            ]
          },
          "metadata": {},
          "execution_count": 56
        }
      ]
    },
    {
      "cell_type": "code",
      "source": [
        "df.Start_Lng"
      ],
      "metadata": {
        "id": "Q0kdpCeH1Vgg",
        "colab": {
          "base_uri": "https://localhost:8080/"
        },
        "outputId": "e3214ef0-02e3-4add-b609-c86a8f245785"
      },
      "execution_count": 69,
      "outputs": [
        {
          "output_type": "execute_result",
          "data": {
            "text/plain": [
              "0          -83.092860\n",
              "1          -84.062800\n",
              "2          -84.524680\n",
              "3          -81.537840\n",
              "4          -84.492792\n",
              "              ...    \n",
              "2845337   -117.379360\n",
              "2845338   -117.148060\n",
              "2845339   -117.847790\n",
              "2845340   -118.403020\n",
              "2845341   -117.230920\n",
              "Name: Start_Lng, Length: 2845342, dtype: float64"
            ]
          },
          "metadata": {},
          "execution_count": 69
        }
      ]
    },
    {
      "cell_type": "code",
      "source": [
        "df.End_Lat"
      ],
      "metadata": {
        "id": "Bdh8Sjpm1VYX",
        "colab": {
          "base_uri": "https://localhost:8080/"
        },
        "outputId": "432cd74a-ff14-4f9b-caf0-21313456d0bf"
      },
      "execution_count": 70,
      "outputs": [
        {
          "output_type": "execute_result",
          "data": {
            "text/plain": [
              "0          40.112060\n",
              "1          39.865010\n",
              "2          39.102090\n",
              "3          41.062170\n",
              "4          39.170476\n",
              "             ...    \n",
              "2845337    33.998880\n",
              "2845338    32.765550\n",
              "2845339    33.777400\n",
              "2845340    33.983110\n",
              "2845341    34.137360\n",
              "Name: End_Lat, Length: 2845342, dtype: float64"
            ]
          },
          "metadata": {},
          "execution_count": 70
        }
      ]
    },
    {
      "cell_type": "code",
      "source": [
        "#number of accident by longitude and latitude in us with sample set  of 0.1 \n",
        "sample_df =  df.sample(int(0.1 * len(df)))#taking sample set of 0.1 percentage\n",
        "sns.scatterplot (x=sample_df.Start_Lng,y=sample_df.End_Lat , size=0.001)\n"
      ],
      "metadata": {
        "id": "aEJ36zMV1VOP",
        "colab": {
          "base_uri": "https://localhost:8080/",
          "height": 299
        },
        "outputId": "d0542ed9-d90d-4c56-9784-ec20eab392f1"
      },
      "execution_count": 77,
      "outputs": [
        {
          "output_type": "execute_result",
          "data": {
            "text/plain": [
              "<matplotlib.axes._subplots.AxesSubplot at 0x7f4fc3900090>"
            ]
          },
          "metadata": {},
          "execution_count": 77
        },
        {
          "output_type": "display_data",
          "data": {
            "text/plain": [
              "<Figure size 432x288 with 1 Axes>"
            ],
            "image/png": "[encoded data removed]"
          },
          "metadata": {}
        }
      ]
    },
    {
      "cell_type": "code",
      "source": [
        "import folium"
      ],
      "metadata": {
        "id": "sUaqQe9i1VGG"
      },
      "execution_count": 16,
      "outputs": []
    },
    {
      "cell_type": "code",
      "source": [
        "Map = folium.Map\n"
      ],
      "metadata": {
        "id": "1IFl3PS61U8C"
      },
      "execution_count": 17,
      "outputs": []
    },
    {
      "cell_type": "code",
      "source": [
        "lat , lon = df.End_Lat[0],df.Start_Lng[0] \n",
        "lat , lon\n"
      ],
      "metadata": {
        "id": "0VlbYNbq1Uy1",
        "colab": {
          "base_uri": "https://localhost:8080/"
        },
        "outputId": "e71f09d8-79b0-4e78-ad7d-354cc256ad72"
      },
      "execution_count": 88,
      "outputs": [
        {
          "output_type": "execute_result",
          "data": {
            "text/plain": [
              "(40.11206, -83.09286)"
            ]
          },
          "metadata": {},
          "execution_count": 88
        }
      ]
    },
    {
      "cell_type": "code",
      "source": [
        "\n"
      ],
      "metadata": {
        "id": "LhTNLEOk1UqA"
      },
      "execution_count": null,
      "outputs": []
    },
    {
      "cell_type": "code",
      "source": [],
      "metadata": {
        "id": "rjL9kf2x9E78"
      },
      "execution_count": null,
      "outputs": []
    },
    {
      "cell_type": "code",
      "source": [
        "list(zip(list(df.Start_Lng), list(df.End_Lat)))"
      ],
      "metadata": {
        "id": "BQgyHJ1c1Uf6",
        "colab": {
          "base_uri": "https://localhost:8080/"
        },
        "outputId": "02d1fdc5-1d6f-4458-f861-72164f2b5f00"
      },
      "execution_count": 21,
      "outputs": [
        {
          "output_type": "execute_result",
          "data": {
            "text/plain": [
              "[(-83.09286, 40.11206),\n",
              " (-84.0628, 39.86501),\n",
              " (-84.52468, 39.10209),\n",
              " (-81.53784, 41.06217),\n",
              " (-84.49279200000002, 39.170476),\n",
              " (-84.03243, 39.06731),\n",
              " (-84.18603, 39.77275),\n",
              " (-81.82016999999998, 41.36786),\n",
              " (-84.075887, 40.69911),\n",
              " (-82.96849, 40.11078),\n",
              " (-84.47723, 39.19615),\n",
              " (-84.53394, 39.13977),\n",
              " (-81.704233, 41.47388),\n",
              " (-83.677814, 39.603013),\n",
              " (-81.312635, 40.151747),\n",
              " (-81.312682, 40.151785),\n",
              " (-82.84695, 39.98529),\n",
              " (-82.85656999999998, 39.9725),\n",
              " (-82.9944, 40.01228),\n",
              " (-83.573037, 41.666124),\n",
              " (-85.26613, 40.98982),\n",
              " (-84.59243000000002, 39.03475),\n",
              " (-82.99601, 40.02246),\n",
              " (-84.28181, 39.86441),\n",
              " (-84.5395, 39.14745),\n",
              " (-85.95982, 39.30457),\n",
              " (-84.04815, 39.76485),\n",
              " (-83.12306, 39.97609),\n",
              " (-85.82518, 39.58444),\n",
              " (-85.51659000000002, 39.45279),\n",
              " (-85.62516, 39.36277000000001),\n",
              " (-84.14148, 39.74883),\n",
              " (-81.49929, 39.26867),\n",
              " (-85.96623000000002, 39.86025),\n",
              " (-83.67214, 41.95939),\n",
              " (-85.74844, 38.28558),\n",
              " (-83.67214, 41.95939),\n",
              " (-80.06666, 40.5283),\n",
              " (-80.009439, 40.48614),\n",
              " (-83.018431, 40.15332100000001),\n",
              " (-81.71181999999997, 41.47023),\n",
              " (-81.54608, 41.06193),\n",
              " (-85.15048, 40.35429),\n",
              " (-85.14993, 40.45112),\n",
              " (-85.13715, 39.74408),\n",
              " (-85.13749, 39.75855),\n",
              " (-83.020499, 39.976605),\n",
              " (-84.78965, 40.74559),\n",
              " (-85.25846999999997, 39.85227),\n",
              " (-81.75909, 41.47442),\n",
              " (-80.10143000000002, 41.84149),\n",
              " (-84.204939, 39.75052),\n",
              " (-84.22033, 39.71767),\n",
              " (-84.20561, 39.73167),\n",
              " (-84.96444, 41.715052),\n",
              " (-82.99708000000003, 40.06376),\n",
              " (-85.71946, 38.18104),\n",
              " (-85.80678, 38.20648),\n",
              " (-85.80838, 38.27191),\n",
              " (-82.87008, 39.93844),\n",
              " (-81.569917, 41.036015),\n",
              " (-83.68767, 39.93271),\n",
              " (-80.175232, 41.858231),\n",
              " (-82.84849, 39.89923),\n",
              " (-80.1096, 39.00263),\n",
              " (-83.57063000000002, 41.66553),\n",
              " (-81.66297, 41.47692),\n",
              " (-81.4804, 41.50311),\n",
              " (-82.989106, 39.72395),\n",
              " (-81.24561, 41.71039),\n",
              " (-81.17636, 41.66819),\n",
              " (-81.78485, 41.4453),\n",
              " (-84.1923, 39.76697),\n",
              " (-81.47417, 41.49859),\n",
              " (-80.2029, 40.020034),\n",
              " (-81.7687, 38.39031),\n",
              " (-81.57809, 41.04078),\n",
              " (-81.72095, 41.47442),\n",
              " (-84.80559000000002, 41.62873),\n",
              " (-84.80373, 41.62866),\n",
              " (-81.78573, 41.15666),\n",
              " (-84.808858, 41.735609),\n",
              " (-84.76619000000002, 41.62866),\n",
              " (-84.21426, 39.74876),\n",
              " (-81.69051999999998, 41.411),\n",
              " (-81.84674, 41.42192),\n",
              " (-84.48273, 38.80878),\n",
              " (-84.49638, 38.79691),\n",
              " (-85.85499, 38.30011),\n",
              " (-81.65623000000002, 38.33614),\n",
              " (-81.65623000000002, 38.33667),\n",
              " (-81.58593, 41.10186),\n",
              " (-85.18715999999998, 41.119121),\n",
              " (-80.667067, 38.806587),\n",
              " (-83.03097, 40.05456),\n",
              " (-81.5139, 41.36828),\n",
              " (-84.49031, 39.1765),\n",
              " (-84.16614, 39.75424),\n",
              " (-84.49031, 39.1765),\n",
              " (-81.65299, 41.11921),\n",
              " (-81.65623000000002, 38.33667),\n",
              " (-81.5, 41.10123),\n",
              " (-84.45275, 39.16359),\n",
              " (-83.00883, 40.1123),\n",
              " (-85.75301999999998, 38.32946),\n",
              " (-84.50801, 39.10414),\n",
              " (-81.708409, 41.47391),\n",
              " (-81.565332, 41.039994),\n",
              " (-84.99082, 41.73569000000001),\n",
              " (-84.43965, 39.27422),\n",
              " (-81.81104, 41.4716),\n",
              " (-81.63157, 41.25666),\n",
              " (-80.09885, 40.58919),\n",
              " (-81.49078, 41.06203),\n",
              " (-81.50595, 41.06247000000001),\n",
              " (-84.4873, 39.1737),\n",
              " (-81.60991999999997, 38.34442),\n",
              " (-81.6934, 41.4743),\n",
              " (-80.09885, 40.58919),\n",
              " (-81.64414000000002, 41.41367),\n",
              " (-84.44561999999998, 39.25414),\n",
              " (-84.40073000000002, 39.29005),\n",
              " (-81.89631, 41.46866),\n",
              " (-81.60676, 41.5525),\n",
              " (-84.603, 39.01946),\n",
              " (-84.20106, 39.74733),\n",
              " (-83.044, 39.89642),\n",
              " (-84.47331, 39.19334),\n",
              " (-84.45364000000002, 39.22518),\n",
              " (-84.44283, 39.15524),\n",
              " (-82.98368, 39.97033),\n",
              " (-80.03596, 40.529455),\n",
              " (-80.03506999999998, 40.535447),\n",
              " (-81.67733, 41.49495),\n",
              " (-81.49079, 41.0634),\n",
              " (-84.20479, 39.75052),\n",
              " (-81.9476, 41.46866),\n",
              " (-83.36026, 41.96429000000001),\n",
              " (-80.432713, 41.19189),\n",
              " (-85.5577, 40.42642),\n",
              " (-85.14301999999998, 39.97527),\n",
              " (-85.5577, 40.42642),\n",
              " (-85.54968000000002, 40.27678),\n",
              " (-85.14018, 39.98264),\n",
              " (-84.52118, 41.16722),\n",
              " (-84.62527, 39.09875),\n",
              " (-84.60423, 38.879317),\n",
              " (-84.20479, 39.77093),\n",
              " (-80.13755400000002, 40.503456),\n",
              " (-80.06859, 41.19661),\n",
              " (-84.39072, 39.058008),\n",
              " (-83.692226, 41.669943),\n",
              " (-80.00957, 40.53024),\n",
              " (-82.99591, 40.04638),\n",
              " (-80.00971, 40.4342),\n",
              " (-81.730092, 41.4258),\n",
              " (-85.51659000000002, 39.45279),\n",
              " (-85.7749, 39.84037),\n",
              " (-85.72561999999998, 40.03833),\n",
              " (-84.29079200000002, 39.864781),\n",
              " (-85.682047, 40.03744),\n",
              " (-85.55752, 39.82115),\n",
              " (-80.00666, 40.12519),\n",
              " (-80.00971, 40.4342),\n",
              " (-80.00666, 40.12519),\n",
              " (-80.00666, 40.12519),\n",
              " (-82.9763, 39.97418),\n",
              " (-83.04255, 39.95928),\n",
              " (-85.97372, 39.67907),\n",
              " (-85.77156, 38.48923),\n",
              " (-85.82177, 38.33649000000001),\n",
              " (-83.02875, 39.97825),\n",
              " (-85.77702, 38.54355),\n",
              " (-85.71946, 38.18104),\n",
              " (-82.99882, 39.89356),\n",
              " (-85.32855, 41.39469),\n",
              " (-85.28893000000002, 41.39546),\n",
              " (-83.36986, 41.90569),\n",
              " (-84.62203000000002, 40.80059),\n",
              " (-84.61374, 40.77137000000001),\n",
              " (-82.99882, 39.89356),\n",
              " (-84.61787, 40.80059),\n",
              " (-84.61374, 40.78593),\n",
              " (-83.57266, 41.67274000000001),\n",
              " (-81.86113, 41.4696),\n",
              " (-85.75389, 38.31053),\n",
              " (-84.53495, 39.12338),\n",
              " (-85.34888000000002, 41.81755),\n",
              " (-81.81988, 41.35535),\n",
              " (-84.39043000000002, 39.34107),\n",
              " (-83.18010500000003, 39.825024),\n",
              " (-85.47449499999998, 38.82415),\n",
              " (-85.63794, 38.824929),\n",
              " (-85.150017, 40.600487),\n",
              " (-85.150502, 40.593244),\n",
              " (-80.2374, 41.18483),\n",
              " (-85.14974000000002, 40.56744000000001),\n",
              " (-85.14993, 40.55267),\n",
              " (-81.55153, 40.29145),\n",
              " (-82.41127, 39.94348),\n",
              " (-83.11922, 39.98407),\n",
              " (-80.09494000000002, 40.61824),\n",
              " (-83.00883, 40.11218),\n",
              " (-81.50372, 41.06472),\n",
              " (-85.965783, 39.972875),\n",
              " (-83.04255, 39.97368),\n",
              " (-83.00883, 40.11218),\n",
              " (-82.84695, 40.00631),\n",
              " (-85.9188, 39.99008),\n",
              " (-81.51146, 41.31438),\n",
              " (-80.69004, 41.12401),\n",
              " (-80.69242, 41.11928),\n",
              " (-83.03097, 40.05456),\n",
              " (-85.760397, 38.11748),\n",
              " (-81.65055, 41.42336),\n",
              " (-80.76034, 38.61838),\n",
              " (-80.677589, 41.11882),\n",
              " (-82.94428, 39.94916),\n",
              " (-81.52228000000002, 41.06268),\n",
              " (-83.03905999999998, 40.1119),\n",
              " (-83.043909, 39.875819),\n",
              " (-83.03336, 40.05188),\n",
              " (-85.1612, 41.13),\n",
              " (-85.10323000000002, 41.18004000000001),\n",
              " (-83.90263, 38.12853),\n",
              " (-83.54203000000003, 41.63548),\n",
              " (-84.539381, 39.15228),\n",
              " (-85.3528, 40.96051),\n",
              " (-85.34522, 40.9605),\n",
              " (-80.64846999999997, 41.08156),\n",
              " (-83.54106999999998, 41.6217),\n",
              " (-82.3465, 38.411198),\n",
              " (-83.69385, 41.67571),\n",
              " (-84.52264, 39.05753),\n",
              " (-80.278075, 39.280307),\n",
              " (-81.73867, 38.36387),\n",
              " (-82.90465999999998, 40.0122),\n",
              " (-81.64083000000002, 41.53898),\n",
              " (-81.47454, 41.16093),\n",
              " (-82.02360999999998, 39.517216),\n",
              " (-82.025802, 39.52352),\n",
              " (-83.071034, 40.325909),\n",
              " (-84.99082, 41.75381),\n",
              " (-84.45455, 39.14305),\n",
              " (-85.76482, 39.82115),\n",
              " (-81.65406999999998, 41.12877),\n",
              " (-83.151457, 40.11036),\n",
              " (-83.15876999999998, 40.121827),\n",
              " (-81.54987, 41.57615),\n",
              " (-83.151457, 40.11036),\n",
              " (-83.15876999999998, 40.121616),\n",
              " (-81.69463, 41.04453),\n",
              " (-81.69051999999998, 41.40753),\n",
              " (-84.346, 39.26678),\n",
              " (-84.56742, 39.28615),\n",
              " (-82.22232, 39.94817000000001),\n",
              " (-84.49031, 39.1765),\n",
              " (-84.4873, 39.1737),\n",
              " (-82.22232, 39.94817000000001),\n",
              " (-82.22232, 39.94817000000001),\n",
              " (-83.5678, 41.68548),\n",
              " (-83.5652, 41.66683),\n",
              " (-84.35176, 39.26717),\n",
              " (-81.69931, 41.47865),\n",
              " (-80.74006, 39.95816),\n",
              " (-80.76219, 39.98564),\n",
              " (-81.5835, 41.57785),\n",
              " (-83.11389, 38.32603),\n",
              " (-85.7622, 38.25962),\n",
              " (-85.654625, 38.293235),\n",
              " (-83.24606999999997, 39.75639),\n",
              " (-81.62795, 41.53926),\n",
              " (-84.5227, 39.08809),\n",
              " (-85.76632, 38.25846),\n",
              " (-81.60032, 41.55022),\n",
              " (-84.50492, 39.02297),\n",
              " (-81.57421, 41.06477),\n",
              " (-80.01029, 40.49463),\n",
              " (-81.66471, 41.49153),\n",
              " (-82.94428, 39.93172),\n",
              " (-81.80859, 41.42065),\n",
              " (-81.57421, 41.06477),\n",
              " (-81.39732, 40.82802),\n",
              " (-81.81724, 41.41817),\n",
              " (-85.13584, 41.14226),\n",
              " (-84.624429, 38.870401),\n",
              " (-81.6667, 41.47954),\n",
              " (-80.16651999999998, 40.29313),\n",
              " (-84.50003000000002, 39.14667),\n",
              " (-81.47694, 41.14589),\n",
              " (-84.44711, 39.14981),\n",
              " (-84.18908, 39.81978),\n",
              " (-84.1899, 39.83889),\n",
              " (-81.71181999999997, 41.47023),\n",
              " (-84.47589, 39.17376),\n",
              " (-84.49754, 39.10234000000001),\n",
              " (-81.67260999999998, 41.49922),\n",
              " (-84.53509, 39.12338),\n",
              " (-81.699011, 41.47865),\n",
              " (-83.09654, 39.97672),\n",
              " (-84.2808, 39.85816),\n",
              " (-84.36541, 39.25235),\n",
              " (-85.58773000000002, 38.31682),\n",
              " (-84.346, 39.24591),\n",
              " (-84.31981, 39.29429),\n",
              " (-84.5395, 39.13454),\n",
              " (-81.49014, 41.46101),\n",
              " (-84.35605, 39.29367),\n",
              " (-84.35176, 39.26717),\n",
              " (-85.74846, 38.20732),\n",
              " (-82.97112, 40.26907),\n",
              " (-81.66758, 41.47957),\n",
              " (-84.52271, 39.08887),\n",
              " (-83.64064, 41.6882),\n",
              " (-82.99591, 40.04638),\n",
              " (-84.05238, 39.86554),\n",
              " (-82.293065, 38.418107),\n",
              " (-81.69893, 41.47414000000001),\n",
              " (-81.68721, 41.47418),\n",
              " (-83.1347, 40.10307),\n",
              " (-80.679211, 40.053618),\n",
              " (-85.71902, 38.19007),\n",
              " (-85.71969, 38.26187),\n",
              " (-84.494399, 39.1765),\n",
              " (-81.52229, 41.0625),\n",
              " (-84.440978, 39.27422),\n",
              " (-82.895471, 39.89923),\n",
              " (-83.13331, 40.09826),\n",
              " (-81.81739, 41.33738),\n",
              " (-82.92089, 40.10717),\n",
              " (-80.11963, 39.47208),\n",
              " (-81.77065999999998, 41.46977),\n",
              " (-81.70017, 38.34128),\n",
              " (-85.232647, 41.163626),\n",
              " (-85.24482900000002, 41.160009),\n",
              " (-84.53495, 39.12338),\n",
              " (-81.15473, 40.945772),\n",
              " (-83.911307, 41.704523),\n",
              " (-83.9136, 41.68591),\n",
              " (-81.17219399999998, 40.94537),\n",
              " (-82.98299, 38.84111),\n",
              " (-82.98432, 38.82445),\n",
              " (-84.42043000000002, 39.003968),\n",
              " (-85.35383, 39.97002),\n",
              " (-81.49929, 39.26867),\n",
              " (-85.5577, 40.42642),\n",
              " (-85.54968000000002, 40.27678),\n",
              " (-81.388878, 38.131965),\n",
              " (-85.778613, 38.530883),\n",
              " (-81.714434, 38.358832),\n",
              " (-81.58664, 38.39614),\n",
              " (-82.98725999999998, 40.05915),\n",
              " (-82.99188000000002, 40.02523),\n",
              " (-83.53681999999998, 41.68965),\n",
              " (-84.365, 39.35249),\n",
              " (-84.53539, 39.114581),\n",
              " (-83.77673, 39.04827),\n",
              " (-83.77199, 39.05029),\n",
              " (-82.90821, 40.05089),\n",
              " (-84.48312, 39.09841),\n",
              " (-80.02638, 40.43077),\n",
              " (-85.19285, 41.438119),\n",
              " (-85.15969399999999, 41.443708),\n",
              " (-81.75909, 41.47442),\n",
              " (-84.465864, 39.05964),\n",
              " (-84.45364000000002, 39.22518),\n",
              " (-81.499987, 41.096131),\n",
              " (-81.4999, 41.1215),\n",
              " (-84.49754, 39.10234000000001),\n",
              " (-81.69353000000002, 41.46786),\n",
              " (-83.45642, 41.52492),\n",
              " (-83.46344, 41.52383),\n",
              " (-81.68160999999998, 41.43592),\n",
              " (-85.50532, 38.22295),\n",
              " (-81.41646999999998, 40.82802),\n",
              " (-85.50111, 38.22293),\n",
              " (-84.53501, 39.12632),\n",
              " (-84.51974, 39.09754),\n",
              " (-84.19519, 39.63103),\n",
              " (-80.10368000000003, 40.39715),\n",
              " (-81.57816, 41.55022),\n",
              " (-84.94275999999998, 41.18225),\n",
              " (-84.52341, 39.09841),\n",
              " (-83.60061999999998, 41.54706),\n",
              " (-81.35221, 38.45536),\n",
              " (-83.62276, 41.2363),\n",
              " (-81.30566, 39.25135),\n",
              " (-82.285379, 41.351335),\n",
              " (-82.26144599999998, 41.345031),\n",
              " (-81.804429, 38.38457),\n",
              " (-80.01234000000002, 40.41057),\n",
              " (-83.12479, 39.99881),\n",
              " (-81.50492, 41.04245),\n",
              " (-83.53045999999998, 41.68901),\n",
              " (-83.723939, 39.626237),\n",
              " (-83.73105, 39.587784),\n",
              " (-81.49904000000002, 41.06203),\n",
              " (-82.98368, 39.97033),\n",
              " (-83.00941999999998, 39.94182),\n",
              " (-82.807829, 41.208579),\n",
              " (-81.8184, 41.39914),\n",
              " (-84.39078, 39.2875),\n",
              " (-82.89541, 39.87203),\n",
              " (-82.99708000000003, 40.04873),\n",
              " (-82.98568, 39.97033),\n",
              " (-85.409527, 41.890234),\n",
              " (-85.409642, 41.874915),\n",
              " (-82.78939, 39.93467),\n",
              " (-83.03336, 40.05188),\n",
              " (-82.93332, 40.005868),\n",
              " (-83.09326999999998, 39.88193),\n",
              " (-81.49372, 40.98436),\n",
              " (-85.77702, 38.54355),\n",
              " (-81.5, 41.08153),\n",
              " (-85.77896, 38.57822),\n",
              " (-81.69051999999998, 41.411),\n",
              " (-85.77866, 38.580444),\n",
              " (-84.061832, 39.814012),\n",
              " (-85.88893, 38.303959000000006),\n",
              " (-83.40048, 39.95664),\n",
              " (-83.37499, 39.93654),\n",
              " (-84.39780999999998, 39.17128),\n",
              " (-83.0354, 40.01676),\n",
              " (-85.63374, 39.94576),\n",
              " (-85.63454, 39.97518),\n",
              " (-85.72518000000002, 40.2777),\n",
              " (-84.47589, 39.173643),\n",
              " (-83.5669, 41.68395),\n",
              " (-85.03312, 41.66502),\n",
              " (-83.666, 41.68976),\n",
              " (-82.9432, 39.94448),\n",
              " (-81.66036, 41.48338),\n",
              " (-84.812135, 41.735607),\n",
              " (-83.02459, 39.96847),\n",
              " (-83.35018000000002, 41.96429000000001),\n",
              " (-83.638931, 41.283091),\n",
              " (-83.48336, 41.63663),\n",
              " (-85.8495, 41.471378),\n",
              " (-85.839527, 41.427584),\n",
              " (-81.75909, 41.47442),\n",
              " (-84.48373000000002, 39.18583),\n",
              " (-80.40234, 41.94497),\n",
              " (-84.310264, 39.54323),\n",
              " (-81.80341999999997, 41.438773),\n",
              " (-82.85656999999998, 39.92986),\n",
              " (-80.028261, 40.44374000000001),\n",
              " (-83.15445, 39.976594),\n",
              " (-83.09654, 39.97672),\n",
              " (-83.11698, 39.97482),\n",
              " (-83.12002, 39.97075),\n",
              " (-84.36832, 39.22375),\n",
              " (-83.118881, 39.97073),\n",
              " (-84.20489, 39.73167),\n",
              " (-81.8184, 41.39914),\n",
              " (-81.66634, 41.41371),\n",
              " (-84.44835, 39.22518),\n",
              " (-83.03905999999998, 40.1119),\n",
              " (-80.16651999999998, 40.29313),\n",
              " (-81.67554, 41.49243),\n",
              " (-80.26148, 40.1836),\n",
              " (-83.04255, 39.97368),\n",
              " (-85.14018, 39.98511),\n",
              " (-85.14406, 39.97527),\n",
              " (-85.75655, 38.29905),\n",
              " (-83.40048, 39.94143),\n",
              " (-84.50003000000002, 39.12965),\n",
              " (-81.885739, 41.03075),\n",
              " (-81.68160999999998, 41.43592),\n",
              " (-80.227514, 40.67137),\n",
              " (-80.22581, 40.6664),\n",
              " (-81.438626, 41.254786),\n",
              " (-85.843032, 40.402251),\n",
              " (-85.842969, 40.354252),\n",
              " (-85.85673, 41.26705),\n",
              " (-82.98405, 39.97844),\n",
              " (-81.28699999999998, 39.96392),\n",
              " (-81.27197, 39.9672),\n",
              " (-83.62123000000003, 41.53542),\n",
              " (-82.83025, 39.93297000000001),\n",
              " (-84.52264, 39.07186),\n",
              " (-84.32502, 39.8552),\n",
              " (-85.70526, 41.65458),\n",
              " (-81.65326, 41.39413),\n",
              " (-81.53053, 41.06239),\n",
              " (-81.49976, 41.09731),\n",
              " (-85.67843, 41.86726),\n",
              " (-80.929665, 38.151068),\n",
              " (-85.57791, 41.5105),\n",
              " (-85.57781, 41.52447),\n",
              " (-82.89541, 39.89923),\n",
              " (-81.49325999999998, 41.198856),\n",
              " (-80.66483000000002, 38.772052),\n",
              " (-84.38094, 39.22533),\n",
              " (-80.12718100000002, 40.777806),\n",
              " (-80.65729, 38.913672),\n",
              " (-83.04748000000002, 39.83707),\n",
              " (-83.038786, 39.87483),\n",
              " (-83.03428000000002, 39.844826),\n",
              " (-83.693727, 41.676364),\n",
              " (-85.15503000000002, 41.12929000000001),\n",
              " (-84.52118, 39.10293),\n",
              " (-83.62123000000003, 41.53542),\n",
              " (-84.522724, 39.09875),\n",
              " (-82.98879000000002, 39.95423),\n",
              " (-84.46345, 39.20497),\n",
              " (-82.96403000000002, 39.955229),\n",
              " (-80.19247, 40.44126),\n",
              " (-80.19314, 40.40934),\n",
              " (-84.51375, 39.1765),\n",
              " (-84.51375, 39.1765),\n",
              " (-84.54061, 39.15256),\n",
              " (-85.13715, 39.77395),\n",
              " (-83.69385, 41.67571),\n",
              " (-83.69385, 41.67571),\n",
              " (-84.37462, 39.28297),\n",
              " (-83.6176, 41.45406),\n",
              " (-84.51907, 39.07599),\n",
              " (-85.752672, 38.268034),\n",
              " (-80.02821, 40.444502),\n",
              " (-80.02468, 40.44304),\n",
              " (-85.85499, 38.30011),\n",
              " (-80.13756, 40.35449000000001),\n",
              " (-80.13835999999998, 40.35405),\n",
              " (-85.88893, 38.30011),\n",
              " (-83.66011, 41.08513),\n",
              " (-80.92163000000002, 41.02413),\n",
              " (-80.90579, 41.02454),\n",
              " (-84.7069, 39.0885),\n",
              " (-85.81793, 38.18542),\n",
              " (-84.86438000000003, 39.27632),\n",
              " (-84.43731, 39.16335),\n",
              " (-84.226084, 39.748584),\n",
              " (-80.11963, 39.47208),\n",
              " (-80.149019, 41.192833),\n",
              " (-80.15860500000002, 41.187807),\n",
              " (-85.62671800000003, 38.241722),\n",
              " (-81.609895, 38.34374),\n",
              " (-83.1347, 40.10307),\n",
              " (-83.13046, 40.08403),\n",
              " (-83.40449, 38.35382),\n",
              " (-83.40553, 38.34631),\n",
              " (-84.46656, 39.04726),\n",
              " (-81.54525, 38.41443),\n",
              " (-85.847643, 38.304786),\n",
              " (-83.54913, 41.64344000000001),\n",
              " (-85.733953, 38.207196),\n",
              " (-82.99355, 39.97844),\n",
              " (-84.49031, 39.18583),\n",
              " (-83.56258000000003, 41.68792),\n",
              " (-83.5732, 41.66553),\n",
              " (-84.36493, 39.22388),\n",
              " (-85.590395, 38.292205),\n",
              " (-81.80535, 41.46679),\n",
              " (-85.74846, 38.20732),\n",
              " (-84.37107900000002, 39.226316),\n",
              " (-83.55579, 41.6876),\n",
              " (-84.22926, 40.15485),\n",
              " (-81.70682, 41.42234000000001),\n",
              " (-85.756847, 38.297211),\n",
              " (-84.47589, 39.17376),\n",
              " (-84.67308, 38.17393),\n",
              " (-84.53355, 39.11923),\n",
              " (-84.36541, 39.25235),\n",
              " (-81.5049, 41.06174),\n",
              " (-84.48373000000002, 39.18583),\n",
              " (-82.98568, 39.9871),\n",
              " (-83.04811, 39.95092),\n",
              " (-84.53929000000002, 39.16362),\n",
              " (-83.84997, 39.89552),\n",
              " (-82.98517, 39.99384000000001),\n",
              " (-82.97548, 39.50841),\n",
              " (-80.09494000000002, 40.61824),\n",
              " (-84.27783000000002, 39.24518),\n",
              " (-84.53355, 39.11923),\n",
              " (-81.80554000000002, 41.43861),\n",
              " (-82.90411, 40.016824),\n",
              " (-84.51666, 39.10414),\n",
              " (-81.52405, 41.06228),\n",
              " (-84.49464, 39.12841),\n",
              " (-84.516019, 39.097772),\n",
              " (-81.51146, 41.31438),\n",
              " (-81.5139, 41.353183),\n",
              " (-80.13661, 40.13189000000001),\n",
              " (-80.132407, 40.12589000000001),\n",
              " (-83.1186, 39.97073),\n",
              " (-82.53893000000002, 39.44135),\n",
              " (-84.53509, 39.12338),\n",
              " (-84.45711999999997, 38.10084000000001),\n",
              " (-82.90783, 40.08627),\n",
              " (-85.91696999999998, 39.58444),\n",
              " (-84.5227, 39.08809),\n",
              " (-85.73695, 38.25875),\n",
              " (-85.70445, 38.19365),\n",
              " (-84.54283000000002, 39.06035),\n",
              " (-81.64519, 41.42336),\n",
              " (-84.42706, 39.28543),\n",
              " (-83.61635, 41.34758),\n",
              " (-81.50986999999998, 41.06169000000001),\n",
              " (-81.63354, 41.53929),\n",
              " (-83.03336, 40.05188),\n",
              " (-81.72196, 41.13613),\n",
              " (-84.49181999999998, 39.08972),\n",
              " (-82.84305, 39.95465),\n",
              " (-84.49031, 39.1765),\n",
              " (-84.42104, 39.16738),\n",
              " (-80.391285, 39.00063),\n",
              " (-84.4873, 39.1737),\n",
              " (-84.47069, 39.14325),\n",
              " (-84.34894, 39.28881),\n",
              " (-81.64755, 40.513361),\n",
              " (-81.651599, 40.521732),\n",
              " (-83.62123000000003, 41.53542),\n",
              " (-80.195782, 38.998635),\n",
              " (-82.152877, 38.83826),\n",
              " (-85.49916, 40.27716),\n",
              " (-80.13163, 40.51968),\n",
              " (-84.54392, 39.83722),\n",
              " (-84.51784, 39.02326),\n",
              " (-81.88205, 38.454276),\n",
              " (-84.48039, 39.02297),\n",
              " (-85.751, 38.22811),\n",
              " (-84.42438, 39.05985),\n",
              " (-84.86438000000003, 39.27632),\n",
              " (-81.66758, 41.47957),\n",
              " (-84.48631, 39.02326),\n",
              " (-80.00755, 40.44856),\n",
              " (-84.28556999999998, 39.10419),\n",
              " (-81.55485999999998, 41.06004),\n",
              " (-83.684687, 41.771477),\n",
              " (-83.94591, 38.01818),\n",
              " (-84.15159, 38.07887),\n",
              " (-85.88893, 38.30011),\n",
              " (-85.81618, 38.95882),\n",
              " (-80.72015999999998, 41.14181),\n",
              " (-84.45455, 39.12841),\n",
              " (-81.50543, 41.0379),\n",
              " (-85.82606, 38.20942),\n",
              " (-84.14148, 39.74883),\n",
              " (-85.50792, 38.28612),\n",
              " (-84.541403, 39.15273),\n",
              " (-85.658849, 38.235846),\n",
              " (-85.68697, 38.2014),\n",
              " (-83.10678, 40.52035),\n",
              " (-83.10043, 40.53491),\n",
              " (-84.49555, 39.12965),\n",
              " (-85.7514, 38.24374),\n",
              " (-80.07815, 40.42109),\n",
              " (-84.20561, 39.74204),\n",
              " (-84.52264, 39.07186),\n",
              " (-85.839651, 39.781457),\n",
              " (-85.839651, 39.781457),\n",
              " (-81.45923, 41.06341),\n",
              " (-83.88431, 39.693164),\n",
              " (-83.882745, 39.688148),\n",
              " (-83.02845, 39.953417),\n",
              " (-81.61428000000002, 41.10985),\n",
              " (-84.189677, 39.797711),\n",
              " (-85.95763000000002, 39.19777),\n",
              " (-84.44835, 39.23596),\n",
              " (-84.25733000000002, 39.73835),\n",
              " (-85.972976, 39.969828),\n",
              " (-81.65406999999998, 41.12877),\n",
              " (-84.49464, 39.12841),\n",
              " (-83.62201999999998, 41.46192),\n",
              " (-83.03726, 40.06052),\n",
              " (-83.289888, 40.045608),\n",
              " (-83.29660799999998, 40.066965),\n",
              " (-82.98405, 39.98078),\n",
              " (-85.123922, 39.981095),\n",
              " (-85.11027299999998, 39.98248),\n",
              " (-80.02554, 40.42924),\n",
              " (-80.02781999999998, 40.43088),\n",
              " (-83.128639, 39.976433),\n",
              " (-85.363439, 41.252653),\n",
              " (-83.61635, 41.34758),\n",
              " (-85.347328, 41.256658),\n",
              " (-83.00941999999998, 39.94182),\n",
              " (-84.53495, 39.12338),\n",
              " (-82.970316, 40.1402),\n",
              " (-82.89541, 39.89923),\n",
              " (-84.49464, 39.12841),\n",
              " (-80.4294, 40.41885),\n",
              " (-83.65977, 41.14107),\n",
              " (-83.02845, 39.94969),\n",
              " (-81.87980999999998, 41.47585),\n",
              " (-84.50284, 39.11128),\n",
              " (-81.680728, 38.340337),\n",
              " (-85.28862, 40.95712),\n",
              " (-82.12679, 38.4414),\n",
              " (-82.01529000000002, 38.44081),\n",
              " (-82.12679, 38.4414),\n",
              " (-83.48379, 38.3317),\n",
              " (-80.201982, 41.19446),\n",
              " (-83.13626, 40.10887),\n",
              " (-83.65401999999997, 41.35635),\n",
              " (-84.81473000000003, 38.15982),\n",
              " (-85.7616, 38.19016),\n",
              " (-84.36493, 39.24591),\n",
              " (-84.04718299999998, 39.141454),\n",
              " (-84.016543, 39.137217),\n",
              " (-81.613662, 38.35275),\n",
              " (-83.35857, 41.92263),\n",
              " (-84.61808, 40.89417),\n",
              " (-80.19126, 40.46013),\n",
              " (-80.698025, 41.119108),\n",
              " (-80.693898, 41.121551),\n",
              " (-84.5395, 39.14745),\n",
              " (-85.80906, 38.27112),\n",
              " (-83.62201999999998, 41.53542),\n",
              " (-84.26419, 39.384572),\n",
              " (-81.54054000000002, 38.4427),\n",
              " (-81.5042, 41.02507),\n",
              " (-85.80906, 38.27112),\n",
              " (-85.77235, 38.12022),\n",
              " (-85.81314300000003, 38.276899),\n",
              " (-85.81517099999998, 38.278587),\n",
              " (-81.939, 41.39706),\n",
              " (-80.13559000000002, 39.46784),\n",
              " (-81.426024, 38.220664),\n",
              " (-81.42437199999998, 38.221177),\n",
              " (-84.612615, 39.042853),\n",
              " (-85.73695, 38.25962),\n",
              " (-84.54283000000002, 39.07599),\n",
              " (-84.361657, 41.841123),\n",
              " (-84.361652, 41.840758),\n",
              " (-83.54203000000003, 41.63548),\n",
              " (-81.04368000000002, 40.02874),\n",
              " (-81.80258, 41.43891),\n",
              " (-81.50348000000002, 41.08452),\n",
              " (-81.65420999999998, 38.35473),\n",
              " (-82.94293, 39.95342),\n",
              " (-83.5181, 41.70436),\n",
              " (-83.03905999999998, 40.11206),\n",
              " (-81.66974, 41.50627),\n",
              " (-83.02512, 39.99031),\n",
              " (-81.692932, 41.483475),\n",
              " (-84.45364000000002, 39.20968),\n",
              " (-82.99708000000003, 40.06376),\n",
              " (-82.88318000000002, 39.937),\n",
              " (-82.524172, 39.20655),\n",
              " (-82.48212, 39.167788),\n",
              " (-81.51602, 41.3991),\n",
              " (-81.183327, 39.961933),\n",
              " (-81.175436, 39.977322),\n",
              " (-84.23004, 39.67698),\n",
              " (-82.9944, 40.01228),\n",
              " (-81.994824, 38.58119600000001),\n",
              " (-82.004356, 38.583372),\n",
              " (-83.1347, 40.10307),\n",
              " (-83.56234, 41.58484),\n",
              " (-85.57677, 38.29141),\n",
              " (-83.1347, 40.10307),\n",
              " (-84.51907, 39.07599),\n",
              " (-81.75909, 41.47068),\n",
              " (-81.39675, 40.8293),\n",
              " (-81.39675, 40.8293),\n",
              " (-84.54283000000002, 39.06035),\n",
              " (-84.65728, 39.06272),\n",
              " (-84.59527, 39.03371),\n",
              " (-82.99503, 40.03205),\n",
              " (-84.9305, 39.8714),\n",
              " (-84.54283000000002, 39.06035),\n",
              " (-84.59137, 39.03791),\n",
              " (-81.61256999999998, 41.03755),\n",
              " (-83.64875, 40.99023),\n",
              " (-83.37075, 39.94249),\n",
              " (-83.72139, 39.89475),\n",
              " (-83.72312099999998, 39.896448),\n",
              " (-81.66758, 41.47957),\n",
              " (-84.22033, 39.71767),\n",
              " (-85.71828000000002, 40.03744),\n",
              " (-81.23116999999998, 41.15107),\n",
              " (-81.21375, 41.17516),\n",
              " (-85.71828000000002, 40.03744),\n",
              " (-85.83861999999998, 39.99372),\n",
              " (-80.19126, 40.46013),\n",
              " (-83.666, 41.68976),\n",
              " (-83.00690999999998, 39.96738),\n",
              " (-83.94191, 39.52084),\n",
              " (-85.99635, 39.83355),\n",
              " (-85.97153, 39.79721),\n",
              " (-83.11924, 39.97501),\n",
              " (-83.62243000000002, 41.45406),\n",
              " (-82.995352, 39.894461),\n",
              " (-83.02875, 39.97825),\n",
              " (-81.95845600000001, 40.880561),\n",
              " (-81.519515, 41.424722),\n",
              " (-84.39043000000002, 39.34107),\n",
              " (-82.60271, 39.94226),\n",
              " (-81.73513100000002, 38.354505),\n",
              " (-81.731585, 38.353957),\n",
              " (-81.479519, 41.501923),\n",
              " (-83.99871, 39.86628),\n",
              " (-85.250959, 38.69455),\n",
              " (-83.1186, 39.99881),\n",
              " (-82.93149, 39.91978),\n",
              " (-84.51666, 39.10414),\n",
              " (-81.50389, 41.06266),\n",
              " (-83.54203000000003, 41.63548),\n",
              " (-83.03175999999998, 39.83208),\n",
              " (-82.99884, 39.83214),\n",
              " (-83.000447, 39.82529),\n",
              " (-84.861968, 37.915564),\n",
              " (-80.11634000000002, 40.54999),\n",
              " (-84.4873, 39.16181),\n",
              " (-81.691778, 41.487043),\n",
              " (-81.62705, 41.25666),\n",
              " (-84.57498000000002, 39.04577000000001),\n",
              " (-84.44287, 39.20968),\n",
              " (-82.88181999999998, 39.89059),\n",
              " (-84.21426, 39.74876),\n",
              " (-83.09486, 39.97421),\n",
              " (-84.52264, 39.07186),\n",
              " (-83.02289300000002, 39.950594),\n",
              " (-83.0137, 39.95292),\n",
              " (-80.66107, 38.70138),\n",
              " (-84.53929000000002, 39.15314),\n",
              " (-83.48075, 41.76185),\n",
              " (-85.9299, 39.99094),\n",
              " (-83.025012, 39.987258),\n",
              " (-80.82384, 41.12366),\n",
              " (-83.554005, 41.688256),\n",
              " (-81.63354, 41.53929),\n",
              " (-84.518869, 39.29747),\n",
              " (-85.7011, 41.204286),\n",
              " (-84.47723, 39.19615),\n",
              " (-83.1347, 40.07916),\n",
              " (-84.483618, 39.14347100000001),\n",
              " (-80.789503, 41.123329),\n",
              " (-81.51286, 41.34967),\n",
              " (-84.27762, 39.86428400000001),\n",
              " (-80.03531, 40.42061),\n",
              " (-82.98257, 39.9589),\n",
              " (-83.85382, 39.915551),\n",
              " (-83.85353, 39.89542),\n",
              " (-83.050567, 40.033231),\n",
              " (-81.61371, 41.40887),\n",
              " (-80.833765, 38.316435),\n",
              " (-82.94154, 40.10717),\n",
              " (-85.62212, 38.22677),\n",
              " (-81.60032, 41.55022),\n",
              " (-82.98517, 39.99384000000001),\n",
              " (-85.58313000000003, 38.31688),\n",
              " (-85.371049, 38.455335),\n",
              " (-85.57741999999998, 38.31485),\n",
              " (-85.371049, 38.455335),\n",
              " (-82.88316, 39.85809),\n",
              " (-80.90504, 38.154807),\n",
              " (-83.09654, 39.97672),\n",
              " (-81.72095, 41.47388),\n",
              " (-84.4307, 39.26956),\n",
              " (-85.82223, 38.22582),\n",
              " (-81.66297, 41.45656),\n",
              " (-84.51375, 39.1765),\n",
              " (-82.08322, 41.40476),\n",
              " (-83.62123000000003, 41.53542),\n",
              " (-83.012335, 39.91632),\n",
              " (-81.48891, 41.60816),\n",
              " (-85.17116, 41.17962),\n",
              " (-81.67124, 41.5047),\n",
              " (-83.09486, 39.97346),\n",
              " (-83.01961999999997, 39.96738),\n",
              " (-82.84849, 39.89923),\n",
              " (-83.03428000000002, 39.8889),\n",
              " (-84.22281, 39.67698),\n",
              " (-83.01644, 40.1219),\n",
              " (-85.80447, 38.3438),\n",
              " (-81.65984, 41.45656),\n",
              " (-85.84703, 38.30214),\n",
              " (-84.50389, 39.163252),\n",
              " (-83.042661, 39.937567),\n",
              " (-83.04209200000003, 39.936838),\n",
              " (-82.53536, 39.94573),\n",
              " (-84.35176, 39.26717),\n",
              " (-83.616108, 41.37085),\n",
              " (-84.30224, 39.24883300000001),\n",
              " (-80.07973299999998, 40.414179),\n",
              " (-84.50784300000002, 39.02264),\n",
              " (-80.76913, 41.12366),\n",
              " (-83.66091999999998, 41.076757),\n",
              " (-83.65886, 38.97914),\n",
              " (-83.65465, 39.01992),\n",
              " (-83.15793000000002, 40.09927),\n",
              " (-83.00941999999998, 39.94182),\n",
              " (-84.50003000000002, 39.11622),\n",
              " (-81.711522, 41.475299),\n",
              " (-84.18457, 39.7894),\n",
              " (-81.6667, 41.47961),\n",
              " (-85.69383, 38.27261),\n",
              " (-85.771118, 38.536943),\n",
              " (-84.20522, 39.7356),\n",
              " (-83.62243000000002, 41.45406),\n",
              " (-84.462312, 39.060308),\n",
              " (-81.65974, 41.53151),\n",
              " (-81.38592, 40.7829),\n",
              " (-85.75495, 38.39985),\n",
              " (-84.61272, 39.02809),\n",
              " (-81.79765, 40.91649),\n",
              " (-81.78869, 40.90923),\n",
              " (-80.39199, 39.16107),\n",
              " (-82.91367199999998, 40.07989),\n",
              " (-81.90626, 41.47269),\n",
              " (-82.91859000000002, 40.07989),\n",
              " (-82.92689, 40.0816),\n",
              " (-85.81238, 38.26781),\n",
              " (-84.53565, 39.02945),\n",
              " (-84.57798000000003, 39.04919),\n",
              " (-81.45434, 39.81436),\n",
              " (-81.46898, 39.83026),\n",
              " (-82.3483, 38.41324),\n",
              " (-85.74846, 38.20732),\n",
              " (-85.70123000000002, 38.11926),\n",
              " (-82.92745, 40.2638),\n",
              " (-85.57436, 38.23806),\n",
              " (-80.00527, 40.43827),\n",
              " (-84.52264, 39.05753),\n",
              " (-85.99359, 40.051291),\n",
              " (-83.5732, 41.67374),\n",
              " (-80.06666, 40.59),\n",
              " (-81.3932, 41.04409),\n",
              " (-85.88784, 39.0399),\n",
              " (-84.047499, 39.90803),\n",
              " (-84.03969000000002, 39.887614),\n",
              " (-81.45925, 39.8181),\n",
              " (-81.45925, 39.81447),\n",
              " (-81.46769, 39.8181),\n",
              " (-80.36586, 41.460561),\n",
              " (-80.366376, 41.47307),\n",
              " (-84.19668, 39.75264),\n",
              " (-84.51375, 39.16362),\n",
              " (-84.166569, 39.818751),\n",
              " (-84.167637, 39.82329),\n",
              " (-84.5395, 39.14745),\n",
              " (-85.719799, 40.48013),\n",
              " (-84.61421, 39.02515),\n",
              " (-85.719799, 40.48013),\n",
              " (-85.72942900000002, 40.480209),\n",
              " (-85.70467, 38.24564),\n",
              " (-84.44561999999998, 39.25414),\n",
              " (-84.48373000000002, 39.18583),\n",
              " (-81.69322, 41.421052),\n",
              " (-84.26285, 39.18173),\n",
              " (-83.03149, 40.00634),\n",
              " (-80.75595, 41.12631),\n",
              " (-81.50012, 41.09671),\n",
              " (-81.40292099999998, 41.029142),\n",
              " (-83.0032, 39.9535),\n",
              " (-83.01729, 39.91109),\n",
              " (-84.49975, 39.11502),\n",
              " (-84.20522, 39.7356),\n",
              " (-81.69592, 41.47213),\n",
              " (-81.69931, 41.47393),\n",
              " (-81.83577, 39.63735),\n",
              " (-82.98449000000002, 39.98547),\n",
              " (-80.03243, 40.12519),\n",
              " (-83.56385999999998, 41.66332),\n",
              " (-84.37507, 39.35625),\n",
              " (-83.6939, 41.67102),\n",
              " (-82.60993, 38.38021),\n",
              " (-84.603, 39.01946),\n",
              " (-80.0438, 40.42055),\n",
              " (-83.347543, 41.34131),\n",
              " (-83.376561, 41.341147),\n",
              " (-82.92745, 40.2638),\n",
              " (-80.023538, 40.43036),\n",
              " (-85.9188, 39.95087),\n",
              " (-84.54283000000002, 39.06035),\n",
              " (-85.76223, 38.4925),\n",
              " (-80.017133, 39.98381),\n",
              " (-80.01011, 39.97165800000001),\n",
              " (-85.51639399999998, 39.846892),\n",
              " (-85.76430500000002, 38.387935),\n",
              " (-81.76937, 38.38594000000001),\n",
              " (-81.66758, 41.47957),\n",
              " (-82.9763, 39.97912),\n",
              " (-80.24616999999998, 40.68109000000001),\n",
              " (-81.72095, 41.47442),\n",
              " (-80.24616999999998, 40.68109000000001),\n",
              " (-82.97121, 40.1402),\n",
              " (-84.27778, 39.85942),\n",
              " (-84.50296999999998, 39.10389),\n",
              " (-84.42002, 39.28516),\n",
              " (-84.44561999999998, 39.27422),\n",
              " (-81.64568, 41.14038),\n",
              " (-84.57798000000003, 39.04919),\n",
              " (-85.73695, 38.25875),\n",
              " (-85.50582, 38.22363),\n",
              " (-83.04032, 39.94564),\n",
              " (-120.029214, 38.827194),\n",
              " (-121.840017, 37.361596),\n",
              " (-122.307987, 37.885882),\n",
              " (-122.307788, 37.88345800000001),\n",
              " (-121.101664, 38.518811),\n",
              " (-121.101664, 38.518811),\n",
              " (-119.71146, 36.99046),\n",
              " (-122.09879, 37.43042),\n",
              " (-122.21131, 37.75085),\n",
              " (-121.96746, 37.3181),\n",
              " (-122.2688, 37.44403),\n",
              " (-121.65943, 37.71814000000001),\n",
              " ...]"
            ]
          },
          "metadata": {},
          "execution_count": 21
        }
      ]
    },
    {
      "cell_type": "code",
      "source": [
        "from folium.plugins import HeatMap"
      ],
      "metadata": {
        "id": "eFHjrQhS1UWF"
      },
      "execution_count": 1,
      "outputs": []
    },
    {
      "cell_type": "code",
      "source": [
        "sample_df = df.sample(int(0.01* len(df)))\n",
        "last_lon_pairs = (list(df.Start_Lng), list(df.End_Lat))"
      ],
      "metadata": {
        "id": "qZpDj9Rw_hEe"
      },
      "execution_count": 23,
      "outputs": []
    },
    {
      "cell_type": "code",
      "source": [
        "Map = folium.Map()\n",
        "HeatMap(last_lon_pairs[ :100]).add_to(Map)\n",
        "Map"
      ],
      "metadata": {
        "id": "BfYRNXy41UMZ"
      },
      "execution_count": 25,
      "outputs": []
    },
    {
      "cell_type": "code",
      "source": [],
      "metadata": {
        "id": "kYZk1D9IyMic"
      },
      "execution_count": null,
      "outputs": []
    },
    {
      "cell_type": "code",
      "source": [],
      "metadata": {
        "id": "re_6fpIpyMZ1"
      },
      "execution_count": null,
      "outputs": []
    },
    {
      "cell_type": "code",
      "source": [],
      "metadata": {
        "id": "0jXo97BIyMSV"
      },
      "execution_count": null,
      "outputs": []
    },
    {
      "cell_type": "markdown",
      "source": [
        "###summary\n",
        "\n",
        "\n",
        "1.   there  no data avilable for newwork cit.\n",
        "2.   0.o1 city belongs to high numbermore than(1000)  accident in us.\n",
        "3.   just 1110 cities hav just 1 accident.\n",
        "4. what is the time of the day are accidents most frequent in?\n",
        "5. which day of the week highest accident?\n",
        "6. which month is more accident?\n",
        "7. what are the treand of accident year over year(decresinng or increasing) ?\n",
        "8. when is the accident per unit of traffic the highest?\n",
        "\n",
        "\n",
        "there  no data avilable for newwork city\n",
        "*0.o1 city belongs to high no  accident in us\n",
        "*just 1110 cities hav just 1 accident"
      ],
      "metadata": {
        "id": "lGkMQH2Ch_F9"
      }
    },
    {
      "cell_type": "code",
      "source": [
        "!pip install jovian --upgrade --quiet"
      ],
      "metadata": {
        "id": "lpewh9gZJwdM"
      },
      "execution_count": null,
      "outputs": []
    },
    {
      "cell_type": "code",
      "execution_count": 26,
      "metadata": {
        "id": "aA4RThva-9vf"
      },
      "outputs": [],
      "source": [
        "import jovian"
      ]
    },
    {
      "cell_type": "code",
      "execution_count": 28,
      "metadata": {
        "id": "w9b-1uZv-9vi",
        "colab": {
          "base_uri": "https://localhost:8080/",
          "height": 88
        },
        "outputId": "1fec4b2d-1a7e-47a8-85ec-9326a4e632f3"
      },
      "outputs": [
        {
          "output_type": "stream",
          "name": "stdout",
          "text": [
            "[jovian] Detected Colab notebook...\u001b[0m\n",
            "[jovian] Uploading colab notebook to Jovian...\u001b[0m\n",
            "Committed successfully! https://jovian.ai/sasadharnayak10/uss-accident-analysis\n"
          ]
        },
        {
          "output_type": "execute_result",
          "data": {
            "text/plain": [
              "'https://jovian.ai/sasadharnayak10/uss-accident-analysis'"
            ],
            "application/vnd.google.colaboratory.intrinsic+json": {
              "type": "string"
            }
          },
          "metadata": {},
          "execution_count": 28
        }
      ],
      "source": [
        "# Execute this to save new versions of the notebook\n",
        "jovian.commit(project=\"uss-accident-analysis\")"
      ]
    },
    {
      "cell_type": "code",
      "source": [],
      "metadata": {
        "id": "SY_DDSG2wq3B"
      },
      "execution_count": null,
      "outputs": []
    }
  ],
  "metadata": {
    "kernelspec": {
      "display_name": "Python 3",
      "language": "python",
      "name": "python3"
    },
    "language_info": {
      "codemirror_mode": {
        "name": "ipython",
        "version": 3
      },
      "file_extension": ".py",
      "mimetype": "text/x-python",
      "name": "python",
      "nbconvert_exporter": "python",
      "pygments_lexer": "ipython3",
      "version": "3.7.6"
    },
    "colab": {
      "provenance": [],
      "collapsed_sections": [],
      "include_colab_link": true
    }
  },
  "nbformat": 4,
  "nbformat_minor": 0
}